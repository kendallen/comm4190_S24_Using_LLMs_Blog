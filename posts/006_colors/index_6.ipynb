{
 "cells": [
  {
   "cell_type": "markdown",
   "id": "61e157a0-fcce-473b-a668-cba1787bea5a",
   "metadata": {},
   "source": [
    "---\n",
    "title: \"Inside Out, Outside In\"\n",
    "description: \"Seeing how Microsoft Co=-Pilot Personifies Colors as Emotions\"\n",
    "author: \"Kendall Allen\"\n",
    "date: \"2/25/2024\"\n",
    "categories:\n",
    "  - LLMs\n",
    "  - Color Theory\n",
    "  - Disney's \"Inside Out\"\n",
    "format:\n",
    "  html:\n",
    "    code-fold: true\n",
    "---"
   ]
  },
  {
   "cell_type": "markdown",
   "id": "57ebd902-27ad-429a-8444-454f8de000e1",
   "metadata": {},
   "source": [
    "<img src=\"colors.jpg\" width=\"300px\" />"
   ]
  },
  {
   "cell_type": "markdown",
   "id": "c8406287-cdaf-43ee-b2f8-bb75b4a69dd3",
   "metadata": {},
   "source": [
    "# Colors as Emotions + Characters\n",
    "\n",
    "I recently re-watched (what I believe to be) one of Disney's best movies, *Inside Out*, because they announced that a sequel will be coming out this summer! While I don't yet know the plot of the new one, the original film follows Riley, a young girl who moves to a new city and finds herself overcome with different emotions; each of which is represented by a little personified character that corresponds to a specific color. For example, her anger is depicted a pissed-off, red man, and her sadness is portrayed by a depressed middle-aged, blue woman. See below for the full range of Riley's emotions in the first *Inside Out*. "
   ]
  },
  {
   "cell_type": "markdown",
   "id": "d101691b-63ed-4645-a11a-94dfb3dbe887",
   "metadata": {},
   "source": [
    "<img src=\"disney.jpg\" width=\"600px\" />"
   ]
  },
  {
   "cell_type": "markdown",
   "id": "0a74955c-a8b8-41d0-bd9f-43f881759f98",
   "metadata": {},
   "source": [
    "I realized that some of these associations, like linking yellow to happiness, green to disgust, or blue to sadness is something that was never explicitly taught to me. Rather, it seems to be a subconscious linking to which most people subscribe-- it just *feels* right. Additionally, phrases that reinforce such tropes, such as \"I'm so mad I'm seeing red,\" or \"I'm so blue and miserable,\" are key in reminding us of these ways we connect colors and emotions. "
   ]
  },
  {
   "cell_type": "markdown",
   "id": "6e16153c-4c1a-4a2d-aa4a-601ac016f68f",
   "metadata": {},
   "source": [
    "## How does Co-Pilot feel about these connections?\n",
    "\n",
    "With all that being said, I wanted to take to Microsoft Co-Pilot, which features a Dalle-3 integration-- or the ability to generate images-- to see if the software was familiar with these associations. Below are my findings from this first iteration of exploring. \n",
    "\n",
    "### Prompt: Please create an image of the color ____ personified."
   ]
  },
  {
   "attachments": {},
   "cell_type": "markdown",
   "id": "f7f8eb18-3c6e-4d64-9d78-8519b94b718d",
   "metadata": {},
   "source": [
    "## Red\n",
    "\n",
    "<img src=\"red.jpg\" width=\"300px\" />"
   ]
  },
  {
   "cell_type": "markdown",
   "id": "b9409ca5-d363-482d-8df2-47f7524d27c4",
   "metadata": {},
   "source": [
    "::: {.callout-tip}\n",
    "\n",
    "### Observations\n",
    "\n",
    "Wow, so Co-Pilot is certainly aware of the link between red and anger! This image is significantly more detailed than I anticipated, too, so I'm wondering if that is due to the strength of the emotion of for some other reason? We will have to see as we go with other colors. \n",
    "\n",
    ":::"
   ]
  },
  {
   "cell_type": "markdown",
   "id": "493d2c0a-4d64-4401-9658-2accf82b0114",
   "metadata": {},
   "source": [
    "## Orange\n",
    "\n",
    "<img src=\"orange.jpg\" width=\"300px\" />"
   ]
  },
  {
   "cell_type": "markdown",
   "id": "3c4f70ab-6c36-45c3-9c56-cbc543cd4555",
   "metadata": {},
   "source": [
    "::: {.callout-tip}\n",
    "\n",
    "### Observations\n",
    "\n",
    "Orange is less strongly associated with a given emotion, so I think that is why Co-Pilot got kind of rogue and literally made a physical orange here. Maybe it's just putting orange in the happiness category, but some sources say the color represents warmth, giving, and extroversion, so that could be why the little cartoon is holding flowers? Perhaps to give to someone?\n",
    "\n",
    "\n",
    ":::"
   ]
  },
  {
   "cell_type": "markdown",
   "id": "8fc60ace-2e02-4be6-aa35-ae126d8d01dc",
   "metadata": {},
   "source": [
    "## Yellow \n",
    "\n",
    "<img src=\"yellow.jpg\" width=\"300px\" />"
   ]
  },
  {
   "cell_type": "markdown",
   "id": "1cb9cdf9-d7c3-4549-b528-0fb2f0258022",
   "metadata": {},
   "source": [
    "::: {.callout-tip}\n",
    "\n",
    "### Observations\n",
    "\n",
    "Like red, the yellow depiction is spot on, and I do think that the softness/intensity of the images is linked to the sort of grittiness inherent in each respective emotion. This picture is much more cartoony and softer, likely because happiness is a softer, more upbeat emotion at its peak. Oppositely, the red photo is much more intense and dark, as that is what anger is in its most extreme form. \n",
    "\n",
    "\n",
    ":::"
   ]
  },
  {
   "cell_type": "markdown",
   "id": "62c69778-e5bc-471d-839f-263bc76c9dd9",
   "metadata": {},
   "source": [
    "## Green\n",
    "\n",
    "<img src=\"green.jpg\" width=\"300px\" />"
   ]
  },
  {
   "cell_type": "markdown",
   "id": "d1097a54-d897-48e1-8536-5720bf27e26d",
   "metadata": {},
   "source": [
    "::: {.callout-tip}\n",
    "\n",
    "### Observations\n",
    "\n",
    "This might be my favorite so far, because while green implied disgust in *Inside Out*, I most often associate it with envy. This \"green-eyed monster\" perfectly emulates that, and I like how the execution is closer to a middle ground on intensity, as that pairs well with the strength of the emotion. If envy got to be too much, it would turn to hatred, which transcends into the realm of anger, which was represented in a more severe manner.\n",
    "\n",
    ":::"
   ]
  },
  {
   "cell_type": "markdown",
   "id": "5d4f7e23-769e-4b2f-9096-59e5a9c3ff6c",
   "metadata": {},
   "source": [
    "## Blue\n",
    "\n",
    "<img src=\"blue.jpg\" width=\"300px\" />"
   ]
  },
  {
   "cell_type": "markdown",
   "id": "1f889356-16b4-4922-a54b-4851ac3d495a",
   "metadata": {},
   "source": [
    "::: {.callout-tip}\n",
    "\n",
    "### Observations\n",
    "\n",
    "Okay, this one was kind of disappointing and vague. The rain might associate the color with the emotion of sadness, but there is not much else that does this. The figure could be called lonely, but every other image has only had one character present too, so this isn't a new case. The heart seems hopeful and fulfilled, which does not feel cohesive with the sadness emotion. Perhaps this image more accurately represents melancholy, where someone can be upset because they feel too much in general?\n",
    "\n",
    ":::"
   ]
  },
  {
   "cell_type": "markdown",
   "id": "0d8f8991-636a-4d0c-a27f-b4ee0e586ec3",
   "metadata": {},
   "source": [
    "## Purple\n",
    "\n",
    "<img src=\"purple.jpg\" width=\"300px\" />"
   ]
  },
  {
   "cell_type": "markdown",
   "id": "0afaaf2b-0fd3-408d-a690-ff961ca68c88",
   "metadata": {},
   "source": [
    "::: {.callout-tip}\n",
    "\n",
    "### Observations\n",
    "\n",
    "Similar to green, I actually prefer Co-Pilot's interpretation of purple as an emotion to the one used in *Inside Out*. Historically, purple has always been associated with royalty and regality, and this image seems to lean in that direction. The being seems to have the status of some higher power, and I personally would not question this character's sovereignty. It also follows the pattern of making the image more serious when the emotion/affect is more intense; royalty and power are significant themes, and I think they are appropriately represented here. Well done, Co-Pilot!\n",
    "\n",
    "\n",
    ":::"
   ]
  },
  {
   "cell_type": "markdown",
   "id": "6c1ad6cf-540c-444a-a734-e0376d225ba5",
   "metadata": {},
   "source": [
    "## Pink\n",
    "\n",
    "<img src=\"pink.jpg\" width=\"300px\" />"
   ]
  },
  {
   "cell_type": "markdown",
   "id": "404656d1-e437-4e04-b7e5-9c9f3507eb9b",
   "metadata": {},
   "source": [
    "::: {.callout-tip}\n",
    "\n",
    "### Observations\n",
    "\n",
    "\n",
    "Aww. In my last color prompt, I decided to go off-script from the classic ROYGBIV and ask about pink, which is associated with sweetness, childhood, and charm. I think this final image perfectly embodied that, especially given the character's precious face, the rainbows across the background, and the cotton-candy-cloud-like textures. It followed the pattern mentioned above, and was effective in its linking of pink to a distinct yet suitable character.\n",
    "\n",
    "\n",
    ":::"
   ]
  },
  {
   "cell_type": "markdown",
   "id": "8bec3336-9422-4d1f-a842-54cf08b65737",
   "metadata": {},
   "source": [
    "# Conclusion\n",
    "\n",
    "After walking through this exploration, it is clear that Co-Pilot grasps a solid understanding of the connections we make as humans between colors and emotions. I really liked its tendency to create more serious/detailed images for more intense emotions and softer/less realistic ones for slightly lower physiological arousal. It was interesting to see how our implicit affiliations can be picked up upon by LLMs and ingrained both in their training and the outputs they produce. After this pseudo-experiment, I'm curious to do more work with LLMs and color, as there is so much there to be explored."
   ]
  }
 ],
 "metadata": {
  "citation-manager": {
   "items": {}
  },
  "kernelspec": {
   "display_name": "Python 3.11 (COMM4190)",
   "language": "python",
   "name": "comm4190"
  },
  "language_info": {
   "codemirror_mode": {
    "name": "ipython",
    "version": 3
   },
   "file_extension": ".py",
   "mimetype": "text/x-python",
   "name": "python",
   "nbconvert_exporter": "python",
   "pygments_lexer": "ipython3",
   "version": "3.11.7"
  }
 },
 "nbformat": 4,
 "nbformat_minor": 5
}
