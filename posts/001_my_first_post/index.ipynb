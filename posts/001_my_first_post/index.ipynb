{
 "cells": [
  {
   "cell_type": "raw",
   "id": "c6a7ac19-d920-4fd7-90ba-663833b2da2b",
   "metadata": {},
   "source": [
    "---\n",
    "title: \"My First Post\"\n",
    "description: \"Getting my Blog Started\"\n",
    "author: \"An LLM User\"\n",
    "date: \"2/6/2024\"\n",
    "categories:\n",
    "  - LLMs\n",
    "  - prompting\n",
    "  - logic\n",
    "---"
   ]
  },
  {
   "cell_type": "markdown",
   "id": "3ca1303a-e83f-4f0e-92ba-8869f9c77042",
   "metadata": {},
   "source": [
    "## This is a blog post. I'm so excited you're here!"
   ]
  },
  {
   "cell_type": "markdown",
   "id": "333ab819-5ed2-4855-983f-95c09406d75c",
   "metadata": {},
   "source": [
    "### Here is a picture of my sweet dog Dexter. "
   ]
  },
  {
   "cell_type": "markdown",
   "id": "71d62e8a-ea9b-43a1-8e8d-1d6385f8fbf8",
   "metadata": {},
   "source": [
    "<img src=\"dexter.jpg\" width=\"300px\" />"
   ]
  },
  {
   "cell_type": "markdown",
   "id": "6e805d9a-68b4-4fdc-9037-cf6bd90a5998",
   "metadata": {},
   "source": [
    "My name is Kendall and I am a third-year student at the University of Pennsylvania who just came back from a semester abroad in London! At Penn, I study Data & Network Science Communications, Spanish, and Consumer Psychology. Outside of the classroom, I am a Junior Captain of the Quaker Girls Dance Team, a Kite and Key Tour Guide, a member of the Wharton Women Marketing Committee, on the Executive Board of my sorority, and I do research at the Annenberg Health and Risk Communication Institute. I love to travel, see live performances, and play all of the NYT Mini Games (Letterboxed especially) in my free time."
   ]
  },
  {
   "cell_type": "markdown",
   "id": "6039fe6a-23db-47b5-8caa-56c5616736d7",
   "metadata": {},
   "source": [
    "This blog is going to focus on my exploration of Large-Language-Models within my AI class this semester. From Valentine's Day to Gen-Z slang, I will ask many different LLMs about different prompts to see how they react and deepen my understanding of the programs. I hope you enjoy following along :)"
   ]
  },
  {
   "cell_type": "code",
   "execution_count": null,
   "id": "87a72409-9ad7-4db8-ace3-ab41fcdc388d",
   "metadata": {},
   "outputs": [],
   "source": []
  }
 ],
 "metadata": {
  "citation-manager": {
   "items": {}
  },
  "kernelspec": {
   "display_name": "Python 3.8",
   "language": "python",
   "name": "python3"
  },
  "language_info": {
   "codemirror_mode": {
    "name": "ipython",
    "version": 3
   },
   "file_extension": ".py",
   "mimetype": "text/x-python",
   "name": "python",
   "nbconvert_exporter": "python",
   "pygments_lexer": "ipython3",
   "version": "3.8.8"
  }
 },
 "nbformat": 4,
 "nbformat_minor": 5
}
