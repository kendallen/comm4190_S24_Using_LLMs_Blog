{
 "cells": [
  {
   "cell_type": "raw",
   "id": "c6a7ac19-d920-4fd7-90ba-663833b2da2b",
   "metadata": {},
   "source": [
    "---\n",
    "title: \"My First Post\"\n",
    "description: \"Getting my Blog Started\"\n",
    "author: \"An LLM User\"\n",
    "date: \"2/6/2024\"\n",
    "categories:\n",
    "  - LLMs\n",
    "  - prompting\n",
    "  - logic\n",
    "---"
   ]
  },
  {
   "cell_type": "markdown",
   "id": "3ca1303a-e83f-4f0e-92ba-8869f9c77042",
   "metadata": {},
   "source": [
    "## This is a blog post. I'm so excited you're here!"
   ]
  },
  {
   "cell_type": "markdown",
   "id": "333ab819-5ed2-4855-983f-95c09406d75c",
   "metadata": {},
   "source": [
    "### Here is a picture of my sweet dog Dexter. "
   ]
  },
  {
   "cell_type": "markdown",
   "id": "71d62e8a-ea9b-43a1-8e8d-1d6385f8fbf8",
   "metadata": {},
   "source": [
    "<img src=\"dexter.jpg\" width=\"300px\" />"
   ]
  },
  {
   "cell_type": "code",
   "execution_count": null,
   "id": "9e6d47c1-398c-4f67-afd2-98cab83deced",
   "metadata": {},
   "outputs": [],
   "source": []
  }
 ],
 "metadata": {
  "citation-manager": {
   "items": {}
  },
  "kernelspec": {
   "display_name": "Python 3.8",
   "language": "python",
   "name": "python3"
  },
  "language_info": {
   "codemirror_mode": {
    "name": "ipython",
    "version": 3
   },
   "file_extension": ".py",
   "mimetype": "text/x-python",
   "name": "python",
   "nbconvert_exporter": "python",
   "pygments_lexer": "ipython3",
   "version": "3.8.8"
  }
 },
 "nbformat": 4,
 "nbformat_minor": 5
}
