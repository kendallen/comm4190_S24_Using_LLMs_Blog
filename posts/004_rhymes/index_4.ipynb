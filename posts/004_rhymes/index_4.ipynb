{
 "cells": [
  {
   "cell_type": "markdown",
   "id": "7305eb8b-5488-47ae-8ced-e465fbf49be4",
   "metadata": {},
   "source": [
    "---\n",
    "title: \"Rhyme or Reason\"\n",
    "description: \"Seeing if LLMs Linguistically Understand Rhyming\"\n",
    "author: \"Kendall Allen\"\n",
    "date: \"2/18/2024\"\n",
    "categories:\n",
    "  - LLMs\n",
    "  - English Phonics\n",
    "  - Linguistics\n",
    "format:\n",
    "  html:\n",
    "    code-fold: true\n",
    "---"
   ]
  },
  {
   "cell_type": "markdown",
   "id": "6ea7b181-f057-4ca0-bec4-a41d2404064f",
   "metadata": {},
   "source": [
    "<img src=\"rap.jpg\" width=\"300px\" />"
   ]
  },
  {
   "cell_type": "markdown",
   "id": "a7cf9ab1-0843-43ce-ba58-ed2ad0b2c078",
   "metadata": {},
   "source": [
    "### Wind and Bind...\n",
    "\n",
    "Due to the variable pronunciation of words based on prefixes and suffixes, one quirk of the English language that makes it so challenging to understand is rhyming. We are generally taught to think that words with the same endings will rhyme, right? So why don't but and put work with their matching -ut endings? Shouldn't the suffix -ough ensure that through and trough will rhyme? There are dozens of examples of false rhymes in our language, so to test the linguistic understanding of LLMs like ChatGPT and Microsoft Co-Pilot, I decided to put their rhyming skills to the test via basic questions and a creative prompt to make up a rap song!"
   ]
  },
  {
   "cell_type": "markdown",
   "id": "2cecbda5-671c-4639-9e65-eeafa4ff0c89",
   "metadata": {},
   "source": [
    "### How do we officially determine if two things rhyme? Do LLMs agree?\n",
    "\n",
    "While there is not any easy rule beyond \"listening to the sounds\" to determine if words rhyme, many sources agree that two words rhyme if they have the same sound in their final stressed syllables and any following syllables. Within this definition. though, there are many categories. Expand the box below to read more in detail about several main rhyme distinctions as defined by Wikipedia.  "
   ]
  },
  {
   "cell_type": "markdown",
   "id": "ddaa2b44-72dd-4d71-8ef6-4a0e64b7de5b",
   "metadata": {},
   "source": [
    "::: {.callout-caution collapse=\"true\"}\n",
    "\n",
    "\n",
    "## Expand To Learn About the Main Rhyme Categories\n",
    "\n",
    "\n",
    "#### *Perfect rhymes* can be classified by the location of the final stressed syllable.\n",
    "\n",
    "- single, also known as masculine: a rhyme in which the stress is on the final syllable of the words (rhyme, sublime)\n",
    "- double, also known as feminine: a rhyme in which the stress is on the penultimate (second from last) syllable of the words (picky, tricky)\n",
    "- dactylic: a rhyme in which the stress is on the antepenultimate (third from last) syllable (amorous, glamorous)\n",
    "- Note: Feminine and dactylic rhymes may also be realized as compound (or mosaic) rhymes (poet, know it).\n",
    "\n",
    "#### In the general sense, *general rhyme* can refer to various kinds of phonetic similarity between words, and to the use of such similar-sounding words in organizing verse.\n",
    "\n",
    "- syllabic: a rhyme in which the last syllable of each word sounds the same but does not necessarily contain stressed vowels. (cleaver, silver, or pitter, patter; the final syllable of the words bottle and fiddle is /l/, a liquid consonant.)\n",
    "- imperfect (or near): a rhyme between a stressed and an unstressed syllable. (wing, caring)\n",
    "- weak (or unaccented): a rhyme between two sets of one or more unstressed syllables. (hammer, carpenter)\n",
    "- semirhyme: a rhyme with an extra syllable on one word. (bend, ending)\n",
    "- forced (or oblique): a rhyme with an imperfect match in sound. (green, fiend; one, thumb)\n",
    "- assonance: matching vowels. (shake, hate) Assonance is sometimes referred to as slant rhymes, along with consonance.\n",
    "- consonance: matching consonants. (rabies, robbers)\n",
    "- half rhyme (or slant rhyme): matching final consonants. (hand , lend)\n",
    "- pararhyme: all consonants match. (tick, tock)\n",
    "- alliteration (or head rhyme): matching initial consonants. (ship, short)\n",
    "\n",
    "\n",
    ":::"
   ]
  },
  {
   "cell_type": "markdown",
   "id": "fb225dc8-2cf7-4c68-9410-21f00c737f5c",
   "metadata": {},
   "source": [
    "### Do LLMs agree? \n",
    "\n",
    "I first prompted my LLMs with the question: **\"How do we know when words rhyme?\"**"
   ]
  },
  {
   "cell_type": "markdown",
   "id": "e6b6e198-f0ff-4a2d-b421-d3a30d2a9464",
   "metadata": {},
   "source": [
    "#### ChatGPT responded:\n",
    "\n",
    "\"Words rhyme when they share similar sounds at the end of the word or within the word. **Specifically, the vowel sounds and any consonant sounds that follow them in the final stressed syllable of the words are typically compared.**\"\n",
    "\n",
    "Here are a few common ways to determine if words rhyme:\n",
    "\n",
    "Phonetic Similarity: If the ending sounds of two words are the same or very similar, they are likely to rhyme. For example, \"cat\" and \"bat\" rhyme because they both end with the \"-at\" sound.\n",
    "\n",
    "Spelling Patterns: Words that end with the same letters or letter combinations often rhyme. For example, \"light\" and \"night\" rhyme because they end with the same \"-ight\" spelling pattern, even though the final consonant sound is different.\n",
    "\n",
    "Pronunciation: Pronouncing the words aloud and listening for similarities in their sounds can help determine if they rhyme.\n",
    "\n",
    "Rhyme Schemes: In poetry, rhyme schemes are patterns of rhyming words at the ends of lines. Words that share the same rhyme scheme rhyme with each other.\n",
    "\n",
    "Regional Dialects: Rhyming can sometimes depend on regional accents and dialects. Words that may not rhyme in one accent may rhyme in another.\n",
    "\n",
    "Overall, rhyming is determined by the similarity in sounds between words, especially at the end of the words or within the stressed syllables."
   ]
  },
  {
   "cell_type": "markdown",
   "id": "50631098-7bc3-42b4-9118-74208e485657",
   "metadata": {},
   "source": [
    "#### In a similar manner, Co-Pilot replied:\n",
    "\n",
    "**Rhyming** is a fascinating aspect of language, and it adds rhythm and musicality to poetry, songs, and even everyday speech. Here are some ways we determine whether words rhyme:\n",
    "\n",
    "1. **Phonetic Similarity**: Rhyming words have similar sounds, especially at the end. The final syllables or sounds match, creating a pleasing effect. For example:\n",
    "   - **Cat** and **hat**\n",
    "   - **Moon** and **tune**\n",
    "\n",
    "2. **Types of Rhymes**:\n",
    "   - **Perfect Rhyme**: The sounds match exactly, including both the vowel and consonant sounds. Examples: **love** and **dove**, **bright** and **night**.\n",
    "   - **Near Rhyme (Slant Rhyme)**: The sounds are similar but not identical. They share some consonant or vowel sounds. Examples: **wind** and **bind**, **blood** and **brood**.\n",
    "   - **Eye Rhyme**: Words look similar but are pronounced differently. Examples: **bough** and **though**, **cough** and **rough**.\n",
    "\n",
    "3. **Syllable Count**: Rhyming words often have the same number of syllables. For example:\n",
    "   - **Happiness** (3 syllables) and **blessedness** (3 syllables)\n",
    "\n",
    "4. **Stress Patterns**: Pay attention to the stressed syllables. Words with the same stress pattern often rhyme. For instance:\n",
    "   - **Con-trast** (1st syllable stressed) and **last** (1st syllable stressed)\n",
    "   - **Re-peat** (2nd syllable stressed) and **com-plete** (2nd syllable stressed)\n",
    "\n",
    "5. **Context and Intention**: Sometimes, words rhyme based on context or poetic intent. Poets may intentionally bend pronunciation to create unique rhymes.\n",
    "\n",
    "Remember, rhyming isn't just about matching letters—it's about capturing the essence of sound and rhythm. So, whether it's a playful rhyme or a heartfelt verse, enjoy the magic of language! 🎶📝\n"
   ]
  },
  {
   "cell_type": "markdown",
   "id": "64030a5b-83c3-48f6-a3f9-1f0b1ae7403c",
   "metadata": {},
   "source": [
    "::: {.callout-tip title=\"So Far, So Good\"}\n",
    "\n",
    "\n",
    "\n",
    "\n",
    "At this point, it was clear that both LLMs understood-- or could at least state-- operational definitions of rhyming. It was time to see if this comprehension ran deeper!\n",
    "\n",
    ":::\n",
    "\n",
    "\n"
   ]
  },
  {
   "cell_type": "markdown",
   "id": "a4650892-dd9a-4631-a69b-0b4a6a4ab61e",
   "metadata": {},
   "source": [
    "## ChatGPT\n",
    "\n",
    "**Prompt:** Cough and rough rhyme, right?\n",
    "\n",
    "**Response:** Yes, \"cough\" and \"rough\" do rhyme. They both end with the \"uff\" sound, making them a good example of rhyming words."
   ]
  },
  {
   "cell_type": "markdown",
   "id": "d55cd4be-1c55-4dc3-bd3d-6001b4113eda",
   "metadata": {},
   "source": [
    "::: {.callout-important title=\"Strike One\"}\n",
    "\n",
    "You'll notice that this response was immediately incorrect, but let's keep going.\n",
    "\n",
    "\n",
    ":::"
   ]
  },
  {
   "cell_type": "markdown",
   "id": "ad26aea4-6067-4194-b525-021f8115454c",
   "metadata": {},
   "source": [
    "**Prompt:** Do blood and brood rhyme?\n",
    "\n",
    "**Response:** Yes, \"blood\" and \"brood\" do rhyme. They both end with the \"uhd\" sound, making them a good example of rhyming words."
   ]
  },
  {
   "cell_type": "markdown",
   "id": "bb22d1c4-5f96-4be7-bd17-93720edb34f6",
   "metadata": {},
   "source": [
    "::: {.callout-important title=\"Strike Two\"}\n",
    "\n",
    "\n",
    "Uh no, it made the same mistake!\n",
    "\n",
    "\n",
    ":::"
   ]
  },
  {
   "cell_type": "markdown",
   "id": "90fc4267-1472-4354-b38a-d3ac73e99b45",
   "metadata": {},
   "source": [
    "**Prompt:** Please make me a list of words that rhyme with bind.\n",
    "\n",
    "**Response:** Certainly! Here are some words that rhyme with \"bind\":\n",
    "\n",
    "1. Find\n",
    "2. Kind\n",
    "3. Mind\n",
    "4. Wind\n",
    "5. Grind\n",
    "6. Behind\n",
    "7. Blind\n",
    "8. Remind\n",
    "9. Unwind\n",
    "10. Resigned\n",
    "\n",
    "**Prompt:** What does that fourth word mean?\n",
    "\n",
    "**Response:** \n",
    "The fourth word, \"wind,\" can have multiple meanings depending on its context [...]\n",
    "\n",
    "**Prompt:** Which form of the word rhymes with bind?\n",
    "\n",
    "**Response:** In the context of rhyming with \"bind,\" the form of the word \"wind\" that is typically used is the noun form, referring to the natural movement of air. In this context, \"wind\" rhymes with \"bind.\""
   ]
  },
  {
   "cell_type": "markdown",
   "id": "0d8363e5-9fa5-426d-8738-7dd683ca9ed3",
   "metadata": {},
   "source": [
    "::: {.callout-important title=\"Strike Three, ChatGPT is Out\"}\n",
    "\n",
    "A third mistake! It was time for a rest and to pivot to Co-Pilot for similar prompting before pulling back and making some observations. \n",
    "\n",
    ":::"
   ]
  },
  {
   "cell_type": "markdown",
   "id": "99748a10-7be1-4adb-bc9e-7a1d20ac40e7",
   "metadata": {},
   "source": [
    "## Co-Pilot\n",
    "\n",
    "**Prompt:** Cough and rough rhyme, right?\n",
    "\n",
    "**Response:** Yes, **cough** and **rough** indeed rhyme! Both words share the same **\"-ough\"** ending, even though their pronunciations are different. It's one of those delightful quirks of the English language. 😊"
   ]
  },
  {
   "cell_type": "markdown",
   "id": "1aef8b96-d94b-4952-88db-7e15db5c716a",
   "metadata": {},
   "source": [
    "::: {.callout-important title=\"Strike One\"}\n",
    "\n",
    "\n",
    "Still wrong, but at least Co-Pilot tried to explain itself?\n",
    "\n",
    ":::"
   ]
  },
  {
   "cell_type": "markdown",
   "id": "ac9201e9-1d1c-4c8d-af56-ecfb8358dbb4",
   "metadata": {},
   "source": [
    "**Prompt:** Do blood and brood rhyme?\n",
    "\n",
    "**Response:** Yes, **blood** and **brood** do not rhyme in terms of their pronunciation. However, they share the same **\"-ood\"** ending, which makes them a near rhyme or a slant rhyme. While **blood** has a short **\"uh\"** sound, **brood** has a long **\"oo\"** sound. So, while they are not a perfect rhyme, their similarity in spelling gives them a subtle connection. 🩸🐣b"
   ]
  },
  {
   "cell_type": "markdown",
   "id": "d43ad1b0-e70f-48e1-bd33-6ff366d0f42b",
   "metadata": {},
   "source": [
    "::: {.callout-tip title=\"Nice Catch!\"}\n",
    "\n",
    "Weird way to phrase it in the beginning there, but we got a correct response!\n",
    "\n",
    ":::"
   ]
  },
  {
   "cell_type": "markdown",
   "id": "ef49dfcf-c5b3-4f72-bbce-24883f8be4f4",
   "metadata": {},
   "source": [
    "**Prompt:** Please make me a list of words that rhyme with bind.\n",
    "\n",
    "**Response:** Certainly! Here's a list of words that rhyme with **bind**:\n",
    "\n",
    "1. **Find**\n",
    "2. **Mind**\n",
    "3. **Kind**\n",
    "4. **Grind**\n",
    "5. **Behind**\n",
    "\n",
    "Feel free to use these in your creative endeavors! 😊"
   ]
  },
  {
   "cell_type": "markdown",
   "id": "f7e38edc-9871-4fc7-b711-f8a16027e42c",
   "metadata": {},
   "source": [
    "::: {.callout-tip title=\"A Solid List!\"}\n",
    "\n",
    "Though it was not as long as the list ChatGPT was able to produce, Co-Pilot's response was 100% accurate! I still wanted to test in on \"wind\" vs. \"bind\", though, as a final check before asking it to creatively produce rhyme schemes.\n",
    "\n",
    ":::"
   ]
  },
  {
   "cell_type": "markdown",
   "id": "6694f3db-079a-4dac-a7ac-5521a60b0dc6",
   "metadata": {},
   "source": [
    "**Prompt:** Does wind rhyme with bind?\n",
    "\n",
    "**Response:** Yes, **wind** and **bind** are considered **near rhymes** or **slant rhymes**. While they don't rhyme perfectly, they share a similar ending sound. The **\"-ind\"** in **wind** and **\"-ind\"** in **bind** create a subtle connection, even though their vowel sounds differ. So, in poetic terms, you could say they rhyme with a twist! 🌬️📜"
   ]
  },
  {
   "cell_type": "markdown",
   "id": "e4985f98-031d-47c0-b89a-d139ae6eac08",
   "metadata": {},
   "source": [
    "::: {.callout-tip title=\"Checks out!\"}\n",
    "\n",
    "This reply was great! It showed that Co-Pilot had a better understanding of rhyming than ChatGPT, citing \"wind\" and \"bind\" as near rhymes, and showing that it was speaking about the air gust form of \"wind\" rather than \"wind\" in the sense of a \"wind-up toy\" via the emoji it included. \n",
    "\n",
    ":::"
   ]
  },
  {
   "cell_type": "markdown",
   "id": "4b70844e-bc48-4b7a-818c-a73fd09dd63f",
   "metadata": {},
   "source": [
    "::: {.callout-note title=\"Observations at this Point\"}\n",
    "\n",
    "At this point, it was clear to me that though Co-Pilot had a better understanding of rhyming phonics than ChatGPT, neither was particularly advanced in their comprehension. Both made basic mistakes, such as labeling \"cough\" and \"rough\" rhymes, and ChatGPT getting so close yet so far by claiming wind (the air form) rhymes with bind. Like many younger children or people trying to learn English as a second language, these LLMs simply don't have the natural ear for rhymes that native or strong-fluent speakers possess. \n",
    "\n",
    "\n",
    ":::"
   ]
  },
  {
   "cell_type": "markdown",
   "id": "900921ad-8082-4cbe-b464-cee047ed089e",
   "metadata": {},
   "source": [
    "## The Final Test\n",
    "\n",
    "To creatively test the LLMs understanding of rhyming, it was time to have them generative their own rhymes in the classic form of rap music. I asked both chatbots to \"please write me a short rap verse that rhymes with 'cloth.'\""
   ]
  },
  {
   "cell_type": "markdown",
   "id": "9c447c48-bc78-47cf-b648-80ede03589ea",
   "metadata": {},
   "source": [
    "### Chat GPT\n",
    "\n",
    "**Response:**\n",
    "\n",
    "Sure, here's a short rap verse for you:\n",
    "\n",
    "Yo, I'm spinnin' rhymes, I'm feelin' so smooth,\n",
    "Rockin' fresh styles, like a brand new groove.\n",
    "Got my mind in the game, never takin' a loss,\n",
    "Wrap words tight, like threads in a cloth.\n",
    "\n",
    "From the streets to the stage, I'm the lyrical boss,\n",
    "Every line I drop, it's a lyrical gloss.\n",
    "Got flows so clean, they're like soap on a cloth,\n",
    "Rippin' through beats, showin' what I'm worth.\n",
    "\n",
    "\n",
    "### Co-Pilot\n",
    "\n",
    "**Response:**\n",
    "\n",
    "My mind's a loom, weaving syllables and beats,\n",
    "In this hip-hop tapestry, I find my heart's retreat.\n",
    "I wear my pain like a badge, my dreams like a cloak,\n",
    "Every rhyme I drop, a masterpiece bespoke.\n",
    "\n",
    "So pass me the mic, watch me spin this tale,\n",
    "I'm the lyrical tailor, stitching words without fail.\n",
    "From the rawest emotions to the finest of cloth,\n",
    "I thread the needle of life, creating art from both."
   ]
  },
  {
   "cell_type": "markdown",
   "id": "5194f220-1f6a-41d1-8212-a7ad0047f5c0",
   "metadata": {},
   "source": [
    "::: {.callout-note title=\"Rap Review\"}\n",
    "\n",
    "I was so excited when ChatGPT rhymed \"cloth\" with \"loss,\" as the long \"-o\" sound they both have would justify this choice in the eyes of many lyricists. Sadly, everything went downhill from there. ChatGPT and Co-Pilot attempted to rhyme \"cloth\" with \"worth\" and \"both\" respectively, showing that their understanding of rhymes often follows flawed the rule of matching endings implying a rhyme (this case being centered around the suffix \"-oth\"). I also can't write off this mistake as some stylistic choice to make a non-rhyming verse, as the prompt clearly states that the bots need to rhyme \"cloth,\" and there is accurate rhyming in other parts of their replies. This further supports the idea that LLMs' true comprehension of English phonics concerning rhyming is not particularly robust or human-like.\n",
    "\n",
    "\n",
    ":::"
   ]
  },
  {
   "cell_type": "markdown",
   "id": "ba826e63-6d4c-4458-99ad-dfbd519c9b46",
   "metadata": {},
   "source": [
    "## Conclusion"
   ]
  },
  {
   "cell_type": "markdown",
   "id": "34999d7a-87cd-45a5-bee8-b9294ac8d5e0",
   "metadata": {},
   "source": [
    "As seen in the exploration above, it can be concluded that both ChatGPT and Co-Pilot have a ways to go before their ability to rhyme in manner similar to native-English-speakers is perfected. Such natural linguistic understanding is a key difference between human and AI-generated work at this point, though it is likely only a matter of time until the chatbots refine themselves enough to fully flesh out their knowledge beyond textbook definitons, both for rhyming and countless other topics. "
   ]
  }
 ],
 "metadata": {
  "citation-manager": {
   "items": {}
  },
  "kernelspec": {
   "display_name": "Python 3.11 (COMM4190)",
   "language": "python",
   "name": "comm4190"
  },
  "language_info": {
   "codemirror_mode": {
    "name": "ipython",
    "version": 3
   },
   "file_extension": ".py",
   "mimetype": "text/x-python",
   "name": "python",
   "nbconvert_exporter": "python",
   "pygments_lexer": "ipython3",
   "version": "3.11.7"
  }
 },
 "nbformat": 4,
 "nbformat_minor": 5
}
