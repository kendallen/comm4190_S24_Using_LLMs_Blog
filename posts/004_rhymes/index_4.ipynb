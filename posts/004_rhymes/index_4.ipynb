{
 "cells": [
  {
   "cell_type": "markdown",
   "id": "7305eb8b-5488-47ae-8ced-e465fbf49be4",
   "metadata": {},
   "source": [
    "---\n",
    "title: \"Rhyme or Reason\"\n",
    "description: \"Seeing if LLMs Linguistically Understand Rhyming\"\n",
    "author: \"Kendall Allen\"\n",
    "date: \"2/18/2024\"\n",
    "categories:\n",
    "  - LLMs\n",
    "  - English Phonics\n",
    "  - Linguistics\n",
    "format:\n",
    "  html:\n",
    "    code-fold: true\n",
    "---"
   ]
  },
  {
   "cell_type": "markdown",
   "id": "6ea7b181-f057-4ca0-bec4-a41d2404064f",
   "metadata": {},
   "source": [
    "<img src=\"rap.jpg\" width=\"300px\" />"
   ]
  },
  {
   "cell_type": "markdown",
   "id": "a7cf9ab1-0843-43ce-ba58-ed2ad0b2c078",
   "metadata": {},
   "source": [
    "### Wind and Bind...\n",
    "\n",
    "Due to the variable pronunciation of words based on prefixes and suffixes, one quirk of the English language that makes it so challenging to understand is rhyming. We are generally taught to think that words with the same endings will rhyme, right? So why don't but and put work with their matching -ut endings? Shouldn't the suffix -ough ensure that through and trough will rhyme? There are dozens of examples of false rhymes in our language, so to test the linguistic understanding of LLMs like ChatGPT and Microsoft Co-Pilot, I decided to put their rhyming skills to the test via basic questions and a creative prompt to make up a rap song!"
   ]
  },
  {
   "cell_type": "markdown",
   "id": "2cecbda5-671c-4639-9e65-eeafa4ff0c89",
   "metadata": {},
   "source": [
    "### How do we officially determine if two things rhyme? Do LLMs agree?\n",
    "\n",
    "While there is not any easy rule beyond \"listening to the sounds\" to determine if words rhyme, many sources agree that two words rhyme if they have the same sound in their final stressed syllables and any following syllables. Within this definition. though, there are many categories. Expand the box below to read more in detail about several main rhyme distinctions.  "
   ]
  },
  {
   "cell_type": "markdown",
   "id": "ddaa2b44-72dd-4d71-8ef6-4a0e64b7de5b",
   "metadata": {},
   "source": [
    "::: {.callout-caution collapse=\"true\"}\n",
    "\n",
    "\n",
    "## Expand To Learn About the Main Rhyme Categories\n",
    "\n",
    "\n",
    "#### *Perfect rhymes* can be classified by the location of the final stressed syllable.\n",
    "\n",
    "- single, also known as masculine: a rhyme in which the stress is on the final syllable of the words (rhyme, sublime)\n",
    "- double, also known as feminine: a rhyme in which the stress is on the penultimate (second from last) syllable of the words (picky, tricky)\n",
    "- dactylic: a rhyme in which the stress is on the antepenultimate (third from last) syllable (amorous, glamorous)\n",
    "- Note: Feminine and dactylic rhymes may also be realized as compound (or mosaic) rhymes (poet, know it).\n",
    "\n",
    "#### In the general sense, *general rhyme* can refer to various kinds of phonetic similarity between words, and to the use of such similar-sounding words in organizing verse.\n",
    "\n",
    "- syllabic: a rhyme in which the last syllable of each word sounds the same but does not necessarily contain stressed vowels. (cleaver, silver, or pitter, patter; the final syllable of the words bottle and fiddle is /l/, a liquid consonant.)\n",
    "- imperfect (or near): a rhyme between a stressed and an unstressed syllable. (wing, caring)\n",
    "- weak (or unaccented): a rhyme between two sets of one or more unstressed syllables. (hammer, carpenter)\n",
    "- semirhyme: a rhyme with an extra syllable on one word. (bend, ending)\n",
    "- forced (or oblique): a rhyme with an imperfect match in sound. (green, fiend; one, thumb)\n",
    "- assonance: matching vowels. (shake, hate) Assonance is sometimes referred to as slant rhymes, along with consonance.\n",
    "- consonance: matching consonants. (rabies, robbers)\n",
    "- half rhyme (or slant rhyme): matching final consonants. (hand , lend)\n",
    "- pararhyme: all consonants match. (tick, tock)\n",
    "- alliteration (or head rhyme): matching initial consonants. (ship, short)\n",
    "\n",
    "\n",
    ":::"
   ]
  },
  {
   "cell_type": "code",
   "execution_count": null,
   "id": "d80f09fe-6be1-46c6-9bd7-e016d7450fa4",
   "metadata": {},
   "outputs": [],
   "source": []
  }
 ],
 "metadata": {
  "citation-manager": {
   "items": {}
  },
  "kernelspec": {
   "display_name": "Python 3.11 (COMM4190)",
   "language": "python",
   "name": "comm4190"
  },
  "language_info": {
   "codemirror_mode": {
    "name": "ipython",
    "version": 3
   },
   "file_extension": ".py",
   "mimetype": "text/x-python",
   "name": "python",
   "nbconvert_exporter": "python",
   "pygments_lexer": "ipython3",
   "version": "3.11.7"
  }
 },
 "nbformat": 4,
 "nbformat_minor": 5
}
