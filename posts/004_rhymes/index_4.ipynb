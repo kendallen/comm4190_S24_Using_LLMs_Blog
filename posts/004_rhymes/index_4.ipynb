{
 "cells": [
  {
   "cell_type": "markdown",
   "id": "7305eb8b-5488-47ae-8ced-e465fbf49be4",
   "metadata": {},
   "source": [
    "---\n",
    "title: \"Rhyme or Reason\"\n",
    "description: \"Seeing if LLMs Linguistically Understand Rhyming\"\n",
    "author: \"Kendall Allen\"\n",
    "date: \"2/18/2024\"\n",
    "categories:\n",
    "  - LLMs\n",
    "  - English Phonics\n",
    "  - Linguistics\n",
    "format:\n",
    "  html:\n",
    "    code-fold: true\n",
    "---"
   ]
  },
  {
   "cell_type": "code",
   "execution_count": null,
   "id": "ee9b584a-9bcf-4456-9cc9-21de5cccdd3c",
   "metadata": {},
   "outputs": [],
   "source": []
  }
 ],
 "metadata": {
  "citation-manager": {
   "items": {}
  },
  "kernelspec": {
   "display_name": "Python 3.11 (COMM4190)",
   "language": "python",
   "name": "comm4190"
  },
  "language_info": {
   "codemirror_mode": {
    "name": "ipython",
    "version": 3
   },
   "file_extension": ".py",
   "mimetype": "text/x-python",
   "name": "python",
   "nbconvert_exporter": "python",
   "pygments_lexer": "ipython3",
   "version": "3.11.7"
  }
 },
 "nbformat": 4,
 "nbformat_minor": 5
}
