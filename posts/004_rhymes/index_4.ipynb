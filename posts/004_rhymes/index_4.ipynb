{
 "cells": [
  {
   "cell_type": "markdown",
   "id": "7305eb8b-5488-47ae-8ced-e465fbf49be4",
   "metadata": {},
   "source": [
    "---\n",
    "title: \"Rhyme or Reason\"\n",
    "description: \"Seeing if LLMs Linguistically Understand Rhyming\"\n",
    "author: \"Kendall Allen\"\n",
    "date: \"2/18/2024\"\n",
    "categories:\n",
    "  - LLMs\n",
    "  - English Phonics\n",
    "  - Linguistics\n",
    "format:\n",
    "  html:\n",
    "    code-fold: true\n",
    "---"
   ]
  },
  {
   "cell_type": "markdown",
   "id": "6ea7b181-f057-4ca0-bec4-a41d2404064f",
   "metadata": {},
   "source": [
    "<img src=\"rap.jpg\" width=\"300px\" />"
   ]
  },
  {
   "cell_type": "markdown",
   "id": "a7cf9ab1-0843-43ce-ba58-ed2ad0b2c078",
   "metadata": {},
   "source": [
    "### Wind and Bind...\n",
    "\n",
    "Due to the variable pronunciation of words based on prefixes and suffixes, one quirk of the English language that makes it so challenging to understand is rhyming. We are generally taught to think that words with the same endings will rhyme, right? So why don't but and put work with their matching -ut endings? Shouldn't the suffix -ough ensure that through and trough will rhyme? There are dozens of examples of false rhymes in our language, so to test the linguistic understanding of LLMs like ChatGPT and Microsoft Co-Pilot, I decided to put their rhyming skills to the test via basic questions and a creative prompt to make up a rap song!"
   ]
  },
  {
   "cell_type": "code",
   "execution_count": null,
   "id": "fc93922d-2b46-4894-82ea-d7cf2ddb29d5",
   "metadata": {},
   "outputs": [],
   "source": []
  }
 ],
 "metadata": {
  "citation-manager": {
   "items": {}
  },
  "kernelspec": {
   "display_name": "Python 3.11 (COMM4190)",
   "language": "python",
   "name": "comm4190"
  },
  "language_info": {
   "codemirror_mode": {
    "name": "ipython",
    "version": 3
   },
   "file_extension": ".py",
   "mimetype": "text/x-python",
   "name": "python",
   "nbconvert_exporter": "python",
   "pygments_lexer": "ipython3",
   "version": "3.11.7"
  }
 },
 "nbformat": 4,
 "nbformat_minor": 5
}
