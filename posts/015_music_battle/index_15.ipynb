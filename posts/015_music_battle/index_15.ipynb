{
 "cells": [
  {
   "cell_type": "markdown",
   "id": "ce72cd11-00f4-4ece-861c-6769acf0ca8a",
   "metadata": {},
   "source": [
    "---\n",
    "title: \"Battle of the (AI Generated) Bands\"\n",
    "description: \"Comparing two Music-Focused Generative AI Platforms\"\n",
    "author: \"Kendall Allen\"\n",
    "date: \"4/14/2024\"\n",
    "categories:\n",
    "  - LMM Comparison\n",
    "  - Creative\n",
    "  - Music \n",
    "format:\n",
    "  html:\n",
    "    code-fold: true    \n",
    "---"
   ]
  },
  {
   "cell_type": "markdown",
   "id": "8e01228b-4187-42fe-b015-7bd5c80211c9",
   "metadata": {},
   "source": [
    "<img src=\"piano.jpg\" width=\"300px\" />"
   ]
  },
  {
   "cell_type": "markdown",
   "id": "f16a6df1-62b6-4a27-8f71-2ea6f4652f9a",
   "metadata": {},
   "source": [
    "## Introduction\n",
    "\n",
    "After doing a couple of blog posts testing out Suno-- a generative AI platform that generates music of all kinds-- I was excited to hear about the launch of its new competitor on April 10th: Udio. Though I accidentally almost signed up for the platform on a fake phishing website, once I navigated to the actual platform I knew I had to compare it to Suno, given their matching functions, similar capabilities, and nearly-identical UI designs. (Even the names feel like they mimick one another!) Below is what I found! "
   ]
  },
  {
   "cell_type": "markdown",
   "id": "2a637c75-2a1c-4bd6-8ef9-63554f9795a2",
   "metadata": {},
   "source": [
    "## Comparisons\n",
    "\n",
    "To best pit these Udio and Suno against one another, I decided to give them three different prompts, focusing on contemporary rap, classic pop ballads, and a curveball-- yodeling. I believed that this range of tasks would allow for each platform to show off their abilities even if they produced vastly different works. "
   ]
  },
  {
   "cell_type": "markdown",
   "id": "90ca6dfe-fab2-45bc-9649-faad01f73134",
   "metadata": {},
   "source": [
    "### Rap Face-Off\n",
    "\n",
    "<img src=\"rap1.png\" width=\"250px\" />   <img src=\"rap2.png\" width=\"250px\" />\n",
    "\n",
    "#### Prompt: \n",
    "\n",
    "A contemporary rap song about heartbreak. \n",
    "\n",
    "#### Suno Responses: \"Hopeless Hearts\"\n",
    "\n",
    "https://suno.com/song/52491175-d793-4cca-9743-845268969485\n",
    "\n",
    "https://suno.com/song/3218452c-d1df-493c-89f7-e153608bff63\n",
    "\n",
    "#### Udio Responses: \"Love in Cold Ink\" & \"Spiraling Silence\"\n",
    "\n",
    "https://www.udio.com/songs/i7Rmdgv7ZQgiMTZoc5E755\n",
    "\n",
    "https://www.udio.com/songs/2hS1miaDhLfbL5Dk61vJGr\n"
   ]
  },
  {
   "cell_type": "markdown",
   "id": "cfe80069-5906-4154-ba06-6ffd57577eb3",
   "metadata": {},
   "source": [
    "::: {.callout-tip}\n",
    "\n",
    "## Observations \n",
    "\n",
    "Right off the bat I'm noticing some immediate differences: \n",
    "\n",
    "- Where Suno produces two songs with the same title and lyrics, Udio creates two different titles and sets of lyrics entirely\n",
    "- Where Suno creates two similar yet differentiated album covers, Udio uses a generic template for the art that is seemingly unrelated to the song it creates\n",
    "- Udio's \"Love in Cold Ink\" fully has sections with lyrics that are/sound like gibberish despite having written clear lyrics in its description. Additionally, the vocals on this track remind me a lot of Nicki Minaj's tone quality which is interesting\n",
    "- Udio's \"Spiraling Silence\" also sounded a lot like a real song called \"Escapism\" by RAYE, so I'm noticing that this platform tends to produce music more acutely similar to existing songs\n",
    "- Udio did a really solid job at following the prompt, while Suno had one very accurate execution of the genre (link #1) and one that missed the mark\n",
    "- Neither platform's lyricism was objectively better than the other's on this iteration\n",
    ":::"
   ]
  },
  {
   "cell_type": "markdown",
   "id": "5e106157-da5e-4eec-a4f4-a54693ca242d",
   "metadata": {},
   "source": [
    "### Slow Ballads\n",
    "\n",
    "<img src=\"ballad1.png\" width=\"250px\" />   <img src=\"ballad2.png\" width=\"250px\" />\n",
    "\n",
    "#### Prompt:\n",
    "\n",
    "A classic, slow tempo pop ballad that brings tears to my eyes. \n",
    "\n",
    "#### Suno Responses: \"Whispered Melodies\"\n",
    "\n",
    "https://suno.com/song/e2b154d9-84d5-4d62-94eb-b1245edaeb76\n",
    "\n",
    "https://suno.com/song/ffd0eccf-ad7e-4bf7-a810-c166eb0ea4e7\n",
    "\n",
    "#### Udio Responses: \"Adrift Alone\" & \"Eternal Echoes\"\n",
    "\n",
    "https://www.udio.com/songs/hEGaKx58gMYwtsxAw7pYie\n",
    "\n",
    "https://www.udio.com/songs/fUBxygfWjQGUm6upefLQdB"
   ]
  },
  {
   "cell_type": "markdown",
   "id": "83c2f02d-2837-4162-9ed3-b692b982db21",
   "metadata": {},
   "source": [
    "::: {.callout-tip}\n",
    "\n",
    "## Observations \n",
    "\n",
    "- In this test, Suno took the prompt in a weird direction, using actual parts of my phrasing in the lyrics; most notably \"slow tempo\" and \"tears to my eyes.\" Odd choice.\n",
    "- Despite Suno's slightly weird lyrical take, I think the melody and feel of it's songs outdid Udio's execution on this prompt\n",
    "- Udio went a lot more rock than pop in \"Adrift Alone,\" and had pretty weak lyrics\n",
    "- Udio's \"Eternal Echoes\" was a more appropriate response, but once again fell short with its rather vague, non-descript lyrics\n",
    "  \n",
    "\n",
    ":::"
   ]
  },
  {
   "cell_type": "markdown",
   "id": "d9897f91-e771-42f5-9033-cb559d0d2e0f",
   "metadata": {},
   "source": [
    "### A Challenge; Yodeling \n",
    "\n",
    "<img src=\"yodel1.png\" width=\"250px\" />   <img src=\"yodel2.png\" width=\"250px\" />\n",
    "\n",
    "#### Prompt:\n",
    "\n",
    "A yodel song about fruit. \n",
    "\n",
    "#### Suno Responses: \"Fruity Serenade\"\n",
    "\n",
    "https://suno.com/song/b6a65e6a-84e6-4057-898f-ae4572c8aa0b\n",
    "\n",
    "https://suno.com/song/6b98dd37-206f-41fa-82e6-6e0724e8dbbb\n",
    "\n",
    "#### Udio Responses: \"Orchard Serenade\" & \"Homegrown Harvest\"\n",
    "\n",
    "https://www.udio.com/songs/p6r6ymHC2kLKFFjjZaDxPS\n",
    "\n",
    "https://www.udio.com/songs/7rjQqkjjw37y7ZhoDmdJU4"
   ]
  },
  {
   "cell_type": "markdown",
   "id": "475dcdad-c84e-4f76-83d2-e3c00a18d96e",
   "metadata": {},
   "source": [
    "::: {.callout-tip}\n",
    "\n",
    "## Observations \n",
    "\n",
    "- Both platforms intepreted my yodeling prompt as a country tune, which was fine because they both did it. Still, it is clear that AI has a ways to go in terms of producing music that exists outside the realm of the main American genres\n",
    "- Suno's lyrics were very juvenile on this one, and Udio's \"Orchard Serenade\" far exceeded them in quality\n",
    "- Both Suno and Udio produced vocals with American country accents, which I thought was impressive\n",
    "  \n",
    ":::"
   ]
  },
  {
   "cell_type": "markdown",
   "id": "fe730468-9a58-4523-8327-80a4a2cc1ee7",
   "metadata": {},
   "source": [
    "## Conclusion\n",
    "\n"
   ]
  },
  {
   "cell_type": "markdown",
   "id": "106f72f6-645f-41ec-84ec-64e040839737",
   "metadata": {},
   "source": [
    "After comparing and contrasting Suno and Udio, I have to say that I don't think there is a clear winner! Both won in lyrics in different prompt iterations and failed in others, and where Suno makes just one song title/set of lyrics, Udio makes only two kinds of album art, so there is a range of pros and cons for each platform. As noted in previous blog posts, though, I think that music-generative AI as a concept has a far way to go until it can match human creation, but it definitely can be used as a tool for brainstorming at this point. All in all, I had a wonderful time seeing what each platform had to offer, and look forward to seeing how they evolve down the road!"
   ]
  }
 ],
 "metadata": {
  "citation-manager": {
   "items": {}
  },
  "kernelspec": {
   "display_name": "Python 3.11 (COMM4190)",
   "language": "python",
   "name": "comm4190"
  },
  "language_info": {
   "codemirror_mode": {
    "name": "ipython",
    "version": 3
   },
   "file_extension": ".py",
   "mimetype": "text/x-python",
   "name": "python",
   "nbconvert_exporter": "python",
   "pygments_lexer": "ipython3",
   "version": "3.11.7"
  }
 },
 "nbformat": 4,
 "nbformat_minor": 5
}
