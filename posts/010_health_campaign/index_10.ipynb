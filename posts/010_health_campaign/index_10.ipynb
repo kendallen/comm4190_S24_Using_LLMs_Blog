{
 "cells": [
  {
   "cell_type": "markdown",
   "id": "3e81371a-52e1-4fed-9ac9-01cb81068878",
   "metadata": {},
   "source": [
    "---\n",
    "title: \"This is NOT Professional Medical Advice\"\n",
    "description: \"Testing AI\"\n",
    "author: \"Kendall Allen\"\n",
    "date: \"3/27/2024\"\n",
    "categories:\n",
    "  - LLMs\n",
    "  - Government Communications\n",
    "  - Public Health \n",
    "format:\n",
    "  html:\n",
    "    code-fold: true    \n",
    "---"
   ]
  },
  {
   "cell_type": "markdown",
   "id": "c9667e05-2dd9-4ad5-9ce6-34d7688656ee",
   "metadata": {},
   "source": [
    "<img src=\"health.png\" width=\"300px\" />"
   ]
  },
  {
   "cell_type": "markdown",
   "id": "94ef29f4-e3d1-4673-8642-937cf16aa5b7",
   "metadata": {},
   "source": [
    "### Introduction\n",
    "\n",
    "In class, we learned from Dr. Andy Tan and his team about the role of AI in public health communications both as a tool for effective messaging and the spread of misinformation. We were tasked with building and evaluating a health campaign targeting a certain behavior with AI. Emmy and I partnered together to combat drunk driving, as the states we hail from (South Carolina and Missouri respectively) fall in the Top 10 for the highest annual number of drunk-driving incidents. To more comprehensively approach this, we created two campaigns, each tackling the issue from a different lens, being social and individual framing of the behavior.  Below is our process of going about this project!  "
   ]
  },
  {
   "cell_type": "markdown",
   "id": "f04ca402-c8fa-4e9a-8834-3eac91244791",
   "metadata": {},
   "source": [
    "### Overview\n",
    "\n",
    "Welcome to our process of creating and evaluating an anti-drunk-driving campaign completely through LLMs and AI-Generated images! Our goal is to raise awareness and promote responsible behavior behind the wheel by addressing both personal and social responsibility. We believe that every individual has a duty to themselves and others to avoid driving under the influence. Our two campaigns emphasize the consequences of drunk driving, for both the individual and for society as a whole. Through attention-grabbing slogans, powerful scripts, and compelling visual elements, we aim to encourage drivers to make the right choice and drive sober. Join us in spreading the message that responsible driving saves lives!"
   ]
  },
  {
   "cell_type": "markdown",
   "id": "b867ab17-b0a2-4a6d-a1bf-55a883617716",
   "metadata": {},
   "source": [
    "### FRAME ONE: Social Responsibility\n",
    "#### Prompt: \n",
    "For a marketing campaign, please create three slogans, catchphrases, or infographic\n",
    "ideas for anti-drunk-driving-accident rhetoric focusing on the social responsibility of the driver.\n"
   ]
  },
  {
   "cell_type": "markdown",
   "id": "1d62efdc-b890-4ff2-b307-44cb006d6e5a",
   "metadata": {},
   "source": [
    "::: {.callout-tip}\n",
    "\n",
    "## Comment\n",
    "\n",
    "We decided to ask for 3 options so that we could see the different directions the LLM\n",
    "were heading towards. This was the second option, and we ran with it throughout the campaign.\n",
    "\n",
    "\n",
    ":::"
   ]
  },
  {
   "cell_type": "markdown",
   "id": "fca6b71e-3ef9-4507-8d4c-cd967435f1a0",
   "metadata": {},
   "source": [
    "#### Response:\n",
    "**Campaign Title: \"Don't Let Your Buzz Kill More Than the Party\"**\n",
    "**Campaign Message**: This campaign aims to highlight the potential consequences of drunk\n",
    "driving in an impactful way. By emphasizing the idea that a buzz from alcohol should not lead to\n",
    "the death of innocent lives, the campaign encourages individuals to take responsibility for their\n",
    "actions and make smart choices behind the wheel.\n",
    "**Slogan**: \"Be the Sober Hero of the Road!\"\n",
    "**Visual Elements**:\n",
    "1. **Poster/Infographic**: The central image features a split-screen view. On one side, there's a\n",
    "vibrant party scene with people laughing, dancing, and enjoying themselves. On the other side,\n",
    "there's a devastating car crash scene with emergency vehicles and injured individuals. The\n",
    "tagline \"Don't Let Your Buzz Kill More Than the Party\" is prominently displayed above the\n",
    "images, emphasizing the contrast between the two scenarios.\n",
    "2. **Social Media Graphics**: Create a series of shareable graphics featuring captions related to\n",
    "the campaign theme. For example:\n",
    "- Image of a smashed cocktail glass next to a wrecked car with the caption: \"A little too much\n",
    "buzz can turn into a buzzkill. Don't let it happen behind the wheel.\"\n",
    "- Illustration of a superhero cape with car keys attached, accompanied by the text: \"Be a hero.\n",
    "Save lives. Drive sober.\"\n",
    "3. **Video PSA**: Produce a short animated or live-action video PSA that tells the story of a\n",
    "person who decides to drive after drinking at a party. As they drive, the scene transitions to\n",
    "show the potential consequences of their actions, including a car crash and the aftermath. The\n",
    "video ends with a powerful message urging viewers to make the responsible choice and not let\n",
    "their buzz kill more than the party.\n",
    "4. **Interactive Website**: Develop an interactive website where visitors can explore different\n",
    "scenarios related to drunk driving and see the possible outcomes of their choices. Include\n",
    "quizzes, testimonials from survivors of drunk driving accidents, and resources for finding\n",
    "alternative transportation options.\n",
    "\n",
    "\n",
    "**Campaign Strategy**:\n",
    "1. **Target Audience**: The campaign targets young adults aged 18-35 who are more likely to\n",
    "engage in social activities involving alcohol consumption. Additionally, it aims to reach out to\n",
    "their friends and family members who may influence their decision-making.\n",
    "2. **Distribution Channels**: Utilize a combination of social media platforms, outdoor advertising\n",
    "(e.g., billboards, bus shelters), and partnerships with local bars and restaurants to disseminate\n",
    "the campaign message. Collaborate with influencers and community leaders to amplify reach\n",
    "and engagement.\n",
    "3. **Engagement Tactics**: Encourage audience engagement through interactive elements such\n",
    "as quizzes, polls, and user-generated content contests. Encourage users to share their own\n",
    "stories or pledges to drive sober using campaign hashtags.\n",
    "4. **Partnerships and Collaborations**: Partner with local law enforcement agencies, healthcare\n",
    "providers, and nonprofit organizations focused on road safety to leverage their expertise and\n",
    "resources. Organize community events, workshops, and educational sessions to raise\n",
    "awareness about the dangers of drunk driving and promote safe alternatives.\n",
    "5. **Evaluation and Monitoring**: Track key metrics such as website traffic, social media\n",
    "engagement, and changes in attitudes and behaviors related to drunk driving. Conduct surveys\n",
    "and focus groups to gather feedback from the target audience and identify areas for\n",
    "improvement. Adjust the campaign strategy as needed based on performance data and\n",
    "audience insights.\n",
    "By implementing these strategies and leveraging the power of social proof, the \"Don't Let Your\n",
    "Buzz Kill More Than the Party\" campaign aims to make a lasting impact on reducing drunk\n",
    "driving accidents and saving lives."
   ]
  },
  {
   "cell_type": "markdown",
   "id": "b9192cb3-a1dd-4398-97c5-bcb8f0c43390",
   "metadata": {},
   "source": [
    "::: {.callout-tip}\n",
    "\n",
    "## Comment\n",
    "\n",
    "We were very pleased with how in depth the LLM went with the details. Including suggestions\n",
    "like engagement tactics, collab ideas, monitoring web traffic, and making a website were above\n",
    "and beyond what we expected. We ended up only utilizing the Poster/Infographic, Social Media\n",
    "Graphic, and Video PSA responses, but in a full campaign the LLM was helpful to give us all\n",
    "angles.\n",
    "\n",
    ":::"
   ]
  },
  {
   "cell_type": "markdown",
   "id": "d839c7a8-56cb-46ac-97f8-e4c526987b17",
   "metadata": {},
   "source": [
    "### FRAME TWO: Individual Consequence\n",
    "#### Prompt: \n",
    "For a marketing campaign, please create three slogans, catchphrases, or infographic\n",
    "ideas for anti-drunk-driving-accident rhetoric focusing on the individual consequences for the\n",
    "driver."
   ]
  },
  {
   "cell_type": "markdown",
   "id": "4cf35086-02f6-482b-b351-d0dc5dd3b22a",
   "metadata": {},
   "source": [
    "::: {.callout-tip}\n",
    "\n",
    "## Comment\n",
    "\n",
    "There would be too much text to include here with every response, so note that this is the\n",
    "fleshed-out idea for the second option provided.\n",
    "\n",
    ":::"
   ]
  },
  {
   "cell_type": "markdown",
   "id": "6a931f84-01f1-4b88-b386-0fcb371bc7b1",
   "metadata": {},
   "source": [
    "#### Response:\n",
    "**Campaign Title: \"Buzzed Behind Bars\"**\n",
    "**Campaign Message**: \"Buzzed Behind Bars\" aims to highlight the severe consequences of\n",
    "drunk driving by emphasizing the potential legal ramifications and the loss of freedom that can\n",
    "result from making the choice to drive under the influence. The campaign seeks to encourage\n",
    "individuals to think twice before getting behind the wheel after consuming alcohol and to\n",
    "promote safer alternatives such as designated drivers or rideshare services.\n",
    "**Slogan**: \"Buzzed Behind Bars: Think Twice Before Mixing Alcohol and Driving.\"\n",
    "**Visual Elements**:\n",
    "1. **Poster/Infographic**: The central image features a split-screen view. On one side, there's an\n",
    "image of a group of friends enjoying a night out, perhaps raising glasses in a toast. On the other\n",
    "side, there's a sobering image of a jail cell with a solitary figure sitting on a bunk, looking\n",
    "despondent. The tagline \"Buzzed Behind Bars\" is prominently displayed above the images,\n",
    "serving as a stark reminder of the potential consequences of drunk driving.\n",
    "2. **Social Media Graphics**: Create a series of shareable graphics featuring statistics related\n",
    "to drunk driving accidents and arrests, paired with impactful messages about the importance of\n",
    "making responsible choices. For example:\n",
    "- Image of handcuffs with the caption: \"One drink can lead to a lifetime of regret. Don't let it be\n",
    "the reason you end up behind bars.\"\n",
    "- Illustration of a car key morphing into jail bars with the text: \"Your freedom is in your hands.\n",
    "Choose wisely.\"\n",
    "3. **Video PSA**: Produce a short video PSA that follows the journey of a person who decides\n",
    "to drive after drinking. The video can show the progression of events, from the initial decision to\n",
    "drive, to being pulled over by law enforcement, to facing the consequences in court and\n",
    "ultimately ending up in jail. The video ends with a message urging viewers to make the\n",
    "responsible choice and avoid the devastating consequences of drunk driving.\n",
    "4. **Interactive Website**: Develop an interactive website where visitors can explore real-life\n",
    "stories of individuals who have been arrested for drunk driving, as well as resources for finding\n",
    "alternative transportation options and tips for preventing impaired driving. Include a quiz or\n",
    "interactive tool that calculates the potential legal penalties for driving under the influence based\n",
    "on the user's location and blood alcohol concentration.\n",
    "**Campaign Strategy**:\n",
    "1. **Target Audience**: The campaign targets individuals aged 21-35 who are more likely to\n",
    "engage in social activities involving alcohol consumption. Additionally, it aims to reach out to\n",
    "their peers, friends, and family members who may influence their decision-making.\n",
    "2. **Distribution Channels**: Utilize social media platforms, digital advertising, and partnerships\n",
    "with local law enforcement agencies to disseminate the campaign message. Share campaign\n",
    "materials on popular social media channels frequented by the target audience, as well as\n",
    "through targeted online advertising campaigns.\n",
    "3. **Engagement Tactics**: Encourage audience engagement through interactive elements such\n",
    "as quizzes, polls, and user-generated content contests. Encourage users to share their own\n",
    "stories or pledges to avoid drunk driving using campaign hashtags.\n",
    "4. **Partnerships and Collaborations**: Partner with local law enforcement agencies, DUI\n",
    "prevention organizations, and community groups to leverage their expertise and resources.\n",
    "Collaborate on events, workshops, and educational campaigns to raise awareness about the\n",
    "legal and personal consequences of drunk driving.\n",
    "5. **Evaluation and Monitoring**: Track key metrics such as website traffic, social media\n",
    "engagement, and changes in attitudes and behaviors related to drunk driving. Conduct surveys\n",
    "and focus groups to gather feedback from the target audience and assess the effectiveness of\n",
    "the campaign. Use data-driven insights to refine the campaign strategy and maximize impact.\n",
    "Through a combination of powerful visuals, compelling messaging, and strategic distribution\n",
    "channels, the \"Buzzed Behind Bars\" campaign aims to educate and motivate individuals to\n",
    "make responsible choices when it comes to alcohol consumption and driving, ultimately saving\n",
    "lives and preventing unnecessary legal consequences."
   ]
  },
  {
   "cell_type": "markdown",
   "id": "19400a82-5df5-4746-9017-edcebf55de97",
   "metadata": {},
   "source": [
    "::: {.callout-tip}\n",
    "\n",
    "## Comment\n",
    "\n",
    "I think that this response was incredibly strong; ChatGPT not only answered my\n",
    "question, but anticipated follow-ups I might’ve had, such as “what should our distribution\n",
    "channels for this campaign be?” It accurately describes our target audience and chooses\n",
    "effective methods of reaching them via social media and online marketing tactics. It also wraps\n",
    "up the “Buzzed Behind Bars” concept reiterating the individual focus, as seen in the final\n",
    "paragraph.\n",
    "\n",
    ":::"
   ]
  },
  {
   "cell_type": "markdown",
   "id": "e9653eb1-15f4-4863-8172-b8e44217eccf",
   "metadata": {},
   "source": [
    "### Generative AI Infographic/PSA for Individual Responsibility:\n",
    "#### Prompt: \n",
    "The image features a split-screen view. On one side, there's an image of a group of\n",
    "friends enjoying a night out, perhaps raising glasses in a toast. On the other side, there's a\n",
    "sobering image of a jail cell with a solitary figure sitting on a bunk, looking despondent. The\n",
    "tagline \"Buzzed Behind Bars\" is prominently displayed above the images, serving as a stark\n",
    "reminder of the potential consequences of drunk driving."
   ]
  },
  {
   "cell_type": "markdown",
   "id": "79b88d57-eae0-407b-91ce-d1504674ff23",
   "metadata": {},
   "source": [
    "::: {.callout-tip}\n",
    "\n",
    "## Comment\n",
    "\n",
    "In order to further ingrain the use of AI in the creation of our campaign, we pulled our prompt for\n",
    "the generation of an infographic from ChatGPT’s initial idea (as seen above). We put the prompt\n",
    "into Co-Pilot, the Microsoft LLM that uses Dalle-3 to generate images. We then selected the\n",
    "best image from the 4 responses.\n",
    "\n",
    ":::"
   ]
  },
  {
   "cell_type": "markdown",
   "id": "878eba4c-ef25-461d-b36d-b7a7993e145b",
   "metadata": {},
   "source": [
    "#### Response: \n",
    "\n",
    "<img src=\"1.jpg\" width=\"300px\" />"
   ]
  },
  {
   "cell_type": "markdown",
   "id": "f4d2da1b-f12c-4023-af2a-e0d2927a2ab8",
   "metadata": {},
   "source": [
    "::: {.callout-tip}\n",
    "\n",
    "## Comment\n",
    "\n",
    "It is immediately apparent that AI is not yet able to produce accurate text each time it creates an\n",
    "image. Still, this response very precisely adhered to our input, and conveyed both the individual\n",
    "theme and sentiments we were looking for in this framing. Viewers must think– wow, am I willing\n",
    "to risk my personal freedom over one stupid choice? We liked this graphic a lot, but wanted to\n",
    "see how the LLM would respond to requests for tweaks/changes.\n",
    "\n",
    ":::"
   ]
  },
  {
   "cell_type": "markdown",
   "id": "c093ef3f-9567-4976-a0f0-b0d162fbc29c",
   "metadata": {},
   "source": [
    "#### Prompt:\n",
    "\n",
    "Please take the third image you produced and add more color to it.\n",
    "\n",
    "#### Response:\n",
    "\n",
    "<img src=\"2.png\" width=\"300px\" />"
   ]
  },
  {
   "cell_type": "markdown",
   "id": "aa5247d8-856e-464a-86ca-ef855ad82863",
   "metadata": {},
   "source": [
    "::: {.callout-tip}\n",
    "\n",
    "## Comment\n",
    "\n",
    "Unfortunately, once we asked for the addition of color, all outputs were significantly closer to\n",
    "resembling cartoons. While the text here is effective and the image is clean, we preferred the\n",
    "more realistic elements of the previous response. We even tried asking “please create me one\n",
    "more image like this one that is less cartoonish in nature,” to no avail. Therefore, we decided\n",
    "that these two PSAs were the best candidates for actual use in our campaign.\n",
    "\n",
    ":::"
   ]
  },
  {
   "cell_type": "markdown",
   "id": "41bc5e19-b6f8-4381-9865-6e0fc46c0bfd",
   "metadata": {},
   "source": [
    "### Generative AI Instagram Post for Individual Responsibility:\n",
    "\n",
    "#### Prompt: \n",
    "Please create an illustration of a car key morphing into jail bars with the text: \"Your\n",
    "freedom is in your hands. Choose wisely,\" to be used in an anti-drunk-driving campaign focused\n",
    "on individual responsibility."
   ]
  },
  {
   "cell_type": "markdown",
   "id": "b90dfb5c-0176-426a-b7e6-73dfd33f3bed",
   "metadata": {},
   "source": [
    "#### Response: \n",
    "\n",
    "<img src=\"3.png\" width=\"300px\" /> <img src=\"4.png\" width=\"300px\" />"
   ]
  },
  {
   "cell_type": "markdown",
   "id": "8bdfb651-a2f1-49cf-8cfd-ab5187b582bb",
   "metadata": {},
   "source": [
    "::: {.callout-tip}\n",
    "\n",
    "## Comment\n",
    "\n",
    "Once again, I think these were really good replies! To get from the second to the first, I\n",
    "prompted Co-Pilot to “please add more elements that imply drunk driving,” and it made a good\n",
    "change to the inclusion of the police car. It remains obvious that certain details such as the\n",
    "biological accuracy/spelling could be improved, but I’ve been really impressed with the creative\n",
    "and conceptual intuition exhibited by the platform.\n",
    "\n",
    ":::"
   ]
  },
  {
   "cell_type": "markdown",
   "id": "6f90a5db-f1c3-482a-a736-4cc001e1ec9c",
   "metadata": {},
   "source": [
    "### Generative AI Infographic/PSA for Social Responsibility:\n",
    "#### First attempt prompt:\n",
    "Make an infographic image for this campaign: **Campaign Title: \"Don't\n",
    "Let Your Buzz Kill More Than the Party\"** **Campaign Message**: This campaign aims to\n",
    "highlight the potential consequences of drunk driving in an impactful way. By emphasizing the\n",
    "idea that a buzz from alcohol should not lead to the death of innocent lives, the campaign\n",
    "encourages individuals to take responsibility for their actions and make smart choices behind\n",
    "the wheel. The central image features a split-screen view. On one side, there's a vibrant party\n",
    "scene with people laughing, dancing, and enjoying themselves. On the other side, there's a\n",
    "devastating car crash scene with emergency vehicles and injured individuals. The tagline \"Don't\n",
    "Let Your Buzz Kill More Than the Party\" is prominently displayed above the images,\n",
    "emphasizing the contrast between the two scenarios."
   ]
  },
  {
   "cell_type": "markdown",
   "id": "f816a738-2852-4e8a-998f-5022c0dd5c25",
   "metadata": {},
   "source": [
    "#### Response: \n",
    "\n",
    "<img src=\"5.png\" width=\"300px\" />"
   ]
  },
  {
   "cell_type": "markdown",
   "id": "17511248-3a53-47b4-a591-58dc4bb9f812",
   "metadata": {},
   "source": [
    "::: {.callout-tip}\n",
    "\n",
    "## Comment\n",
    "\n",
    "Using jhub, this response was the closest we thought we could get to what we wanted. We\n",
    "believe that the cartoon imaging was a result of the jhub, so we asked Co-Pilot to make a more\n",
    "serious version of this image.\n",
    "\n",
    ":::"
   ]
  },
  {
   "cell_type": "markdown",
   "id": "f29daa69-1609-4656-8b81-ccb0b8d7ec3f",
   "metadata": {},
   "source": [
    "#### Second attempt prompt:\n",
    "Make this image more serious as it is a\n",
    "public health campaign about the social responsibility of drunk driving and the danger that puts\n",
    "others in."
   ]
  },
  {
   "cell_type": "markdown",
   "id": "9f6a0dac-fb11-4c94-80b8-f4d317839635",
   "metadata": {},
   "source": [
    "#### Response: \n",
    "\n",
    "<img src=\"6.png\" width=\"300px\" />"
   ]
  },
  {
   "cell_type": "markdown",
   "id": "d3240779-8d5c-482e-aac5-999d989f6ac1",
   "metadata": {},
   "source": [
    "::: {.callout-tip}\n",
    "\n",
    "## Comment\n",
    "\n",
    "Co-Pilot did not correctly understand the image addition. It is too dark and intense, and logically\n",
    "it didn't make sense. We believe this is a result of not re-emphasizing the original prompt. So we\n",
    "tried again.\n",
    "\n",
    ":::"
   ]
  },
  {
   "cell_type": "markdown",
   "id": "11e8db46-214b-413a-8175-dc60a49e6346",
   "metadata": {},
   "source": [
    "#### Third attempt prompt: \n",
    "Make this image for a public health campaign about the social\n",
    "responsibility of drunk driving: The central image features a split-screen view. On one side,\n",
    "there's a vibrant party scene with people laughing, dancing, and enjoying themselves. On the\n",
    "other side, there\\'s a devastating car crash scene with emergency vehicles and injured\n",
    "individuals. The tagline \"Don\\'t Let Your Buzz Kill More Than the Party\" is prominently displayed\n",
    "above the images, emphasizing the contrast between the two scenarios."
   ]
  },
  {
   "cell_type": "markdown",
   "id": "a1efe93a-f5bd-452f-8baf-f3159ff0291f",
   "metadata": {},
   "source": [
    "#### Response: \n",
    "\n",
    "<img src= \"7.png\" width=\"300px\" />"
   ]
  },
  {
   "cell_type": "markdown",
   "id": "302c9982-9cb6-416c-ad8d-cd1904b5ce94",
   "metadata": {},
   "source": [
    "::: {.callout-tip}\n",
    "\n",
    "## Comment\n",
    "\n",
    "For the final attempt we made the prompt less wordy than the original, because we thought that\n",
    "all the unnecessary information would clog the understanding of Co-Pilot. In this turn, we also\n",
    "did this prompt in a refreshed page so that there was no remembrance of the previous attempt.\n",
    "It turned out much better than expected, and we are very happy with this infographic. The only\n",
    "aspect is the amount of flowers and the text being incorrect, but it works.\n",
    "\n",
    ":::"
   ]
  },
  {
   "cell_type": "markdown",
   "id": "1b4edc7b-00ac-4441-bd9b-6dc2b51b1155",
   "metadata": {},
   "source": [
    "### Generative AI Instagram Post for Social Responsibility:\n",
    "#### First attempt prompt: \n",
    "Make a social media graphic for this campaign: **Campaign Title: \"Don't\n",
    "Let Your Buzz Kill More Than the Party\"** **Campaign Message**: This campaign aims to\n",
    "highlight the potential consequences of drunk driving in an impactful way. By emphasizing the\n",
    "idea that a buzz from alcohol should not lead to the death of innocent lives, the campaign\n",
    "encourages individuals to take responsibility for their actions and make smart choices behind\n",
    "the wheel."
   ]
  },
  {
   "cell_type": "markdown",
   "id": "49b75100-ffc0-4cc6-ac42-5f5be4cb873a",
   "metadata": {},
   "source": [
    "#### Response: \n",
    "\n",
    "<img src= \"8.png\" width=\"300px\" />"
   ]
  },
  {
   "cell_type": "markdown",
   "id": "304644c5-3db3-402f-85cb-412db984dbe9",
   "metadata": {},
   "source": [
    "::: {.callout-tip}\n",
    "\n",
    "## Comment\n",
    "\n",
    "Immediately, we were taken aback by the visual made by Co-pilot. After receiving such a great\n",
    "response for the original campaign prompt and using the current prompt following immediately\n",
    "after, we thought the LLM would understand the tone. Alas, we had to adjust the prompt.\n",
    "\n",
    ":::"
   ]
  },
  {
   "cell_type": "markdown",
   "id": "e8762295-1b2a-4dec-9a7d-b1caff737cef",
   "metadata": {},
   "source": [
    "#### Second attempt prompt: \n",
    "Make a social media graphic for this campaign: **Campaign Title:\n",
    "\"Don't Let Your Buzz Kill More Than the Party\"** **Campaign Message**: This campaign aims to\n",
    "highlight the potential consequences of drunk driving in an impactful way. By emphasizing the\n",
    "idea that a buzz from alcohol should not lead to the death of innocent lives, the campaign\n",
    "encourages individuals to take responsibility for their actions and make smart choices behind\n",
    "the wheel."
   ]
  },
  {
   "cell_type": "markdown",
   "id": "fe92ff95-c715-47f9-a5cb-05ccabfce610",
   "metadata": {},
   "source": [
    "#### Response: \n",
    "\n",
    "<img src= \"9.png\" width=\"300px\" />"
   ]
  },
  {
   "cell_type": "markdown",
   "id": "cda3d91e-3b29-4930-aca9-47c99e954c25",
   "metadata": {},
   "source": [
    "::: {.callout-tip}\n",
    "\n",
    "## Comment\n",
    "\n",
    "Deciding to stick with Co-Pilot, we were pleased with the second attempt. It was more of what\n",
    "we were looking for, leaning into typical social media graphic details like attention grabbing\n",
    "colors, sleekness, and fitting Instagram’s minimal aesthetic. Also, it’s fairly easy to understand (if the text correctly reads “Don’t let your buzz kill more than the vibe”) before you quickly scroll. Surprisingly, it’s impressive that the image has undertones of the prompt (like the neon lights of a bar in reference to the drinking) and is not “in your face” about the meaning which might allow the concept to linger longer in the audience's mind.\n",
    "\n",
    ":::"
   ]
  },
  {
   "cell_type": "markdown",
   "id": "0153ca85-8348-4698-85c3-53b11decd7dc",
   "metadata": {},
   "source": [
    "::: {.callout-important title=\"NOTE\"}\n",
    "\n",
    "\n",
    "It was here that Emmy and I did some more prompting work to develop a Video PSA script, but feel free to check that out in the full project linked below! I decided to omit it here for (attempted) brevity. We will now pivot to the section where Emmy and I used LLM's to evaluate the projects that had just been generated by other AI platforms!\n",
    "\n",
    "\n",
    ":::"
   ]
  },
  {
   "cell_type": "markdown",
   "id": "12c307f1-185e-440b-87fc-2a168ec4afc8",
   "metadata": {},
   "source": [
    "## Cross-Campaign LLM Evaluation\n",
    "\n",
    "### Graphic #1 Social Responsibility\n",
    "#### Prompt: \n",
    "You are a target audience member of a public health drunk-driving campaign. You are\n",
    "presented with this image, focusing on the social responsibility of drivers to not get behind the\n",
    "wheel inebriated. Please rate the infographic on its likelihood to change your behavior from 1-5,\n",
    "with 1 being \"I will not change my behavior,\" and 5 being \"I will definitely change my behavior.\"\n",
    "\n",
    "\n",
    "<img src= \"5.png\" width=\"300px\" />"
   ]
  },
  {
   "cell_type": "markdown",
   "id": "dfebf98d-30ce-4478-b4e3-22e34a9882c8",
   "metadata": {},
   "source": [
    "#### Response: \n",
    "I would rate this infographic a 4. It effectively contrasts the joy of partying with the\n",
    "devastating consequences of drunk driving, which could lead to a strong emotional response\n",
    "and behavior change.\n",
    "The image is divided into two contrasting halves:\n",
    "1. Left Side:\n",
    "○ A group of people are celebrating, dancing, and having fun at night.\n",
    "○ They are near a car that has “3” written on the road beside it.\n",
    "○ The atmosphere is lively with bright lights illuminating the scene.\n",
    "○ There’s a bouquet of flowers on top of the car, symbolizing celebration or an\n",
    "event like a wedding or party.\n",
    "2. Right Side:\n",
    "○ It shows a crashed car with emergency services present and an individual lying\n",
    "on the ground, presumably injured from an accident.\n",
    "○ The atmosphere is grim; emergency lights cast an ominous glow on the scene.\n",
    "Above both scenes, a yellow sign hangs, reading: “DON’T LET YOUR BUZZ KILL MORE\n",
    "THAN THE PARTY,” indicating that falling asleep or losing control due to intoxication can have\n",
    "fatal consequences beyond ending a fun time. The juxtaposition of celebration and tragedy\n",
    "serves as a powerful reminder of the importance of responsible behavior when it comes to\n",
    "drinking and driving."
   ]
  },
  {
   "cell_type": "markdown",
   "id": "0346a5ec-f185-4dd0-babe-5c2bb09813c5",
   "metadata": {},
   "source": [
    "### Graphic #1 Individual Responsibility\n",
    "#### Prompt: You are a target audience member of a public health drunk-driving campaign. You are\n",
    "presented with this image, focusing on the individual responsibility of drivers to not get behind\n",
    "the wheel inebriated. Please rate the infographic on its likelihood to change your behavior from\n",
    "1-5, with 1 being \"I will not change my behavior,\" and 5 being \"I will definitely change my\n",
    "behavior.\"\n",
    "\n",
    "<img src= \"1.jpg\" width=\"300px\" />"
   ]
  },
  {
   "cell_type": "markdown",
   "id": "efd29561-ede6-4524-b6dd-89ca304d59d0",
   "metadata": {},
   "source": [
    "#### Response:\n",
    "I appreciate your commitment to promoting responsible behavior. Let’s evaluate the\n",
    "infographic together:\n",
    "The split-screen style infographic effectively contrasts two scenarios related to drunk driving:\n",
    "1. BUZZED (Left Side):\n",
    "○ A grayscale scene depicts people clinking glasses at a table, celebrating or\n",
    "socializing.\n",
    "○ The atmosphere seems light-hearted and social.\n",
    "○ However, the text at the bottom is scrambled and unreadable, which might be\n",
    "intentional for effect.\n",
    "2. BARRD (Right Side):\n",
    "○ Another grayscale scene shows a person sitting alone in jail.\n",
    "○ The stark contrast between the two scenes emphasizes the consequences of\n",
    "drinking and driving.\n",
    "While I don’t have personal experiences or emotions to gauge its impact, I can see how this\n",
    "infographic aims to convey the message of individual responsibility. The juxtaposition serves as\n",
    "a powerful reminder that our choices can lead to vastly different outcomes.\n",
    "Considering the effectiveness of this infographic, I would rate it a 4. It prompts reflection and\n",
    "highlights the importance of making responsible decisions when it comes to alcohol and driving.\n",
    "However, the scrambled text could be clearer for maximum impact.\n",
    "Remember, every choice matters, and responsible behavior can save lives. 🚗🚫�"
   ]
  },
  {
   "cell_type": "markdown",
   "id": "2703b26c-4dd4-45e7-8580-428c8ec393a9",
   "metadata": {},
   "source": [
    "### Comparing the Evaluations\n",
    "#### Prompt: Which of the two graphics would you rate higher on the aforementioned scale if you\n",
    "had to?\n",
    "#### Response: If I had to choose between the two graphics, I would rate the first infographic (the\n",
    "one contrasting celebration with the aftermath of drunk driving) slightly higher, at a 4.5. The\n",
    "emotional impact of juxtaposing joy and tragedy can be quite powerful, potentially encouraging\n",
    "responsible behavior. However, both infographics serve as important reminders about the\n",
    "consequences of drinking and driving. 🚫🍻\n",
    "Prompt: Which one do you believe will be most effective with human target audiences in the\n",
    "context of social vs. personal responsibility respectively?\n",
    "Response: Certainly! Let’s analyze the two infographics through the lenses of social\n",
    "responsibility and personal responsibility:\n",
    "1. Social Responsibility:\n",
    "○ First Infographic (Celebration vs. Tragedy):\n",
    "■ Strengths:\n",
    "■ Community Impact: By highlighting the consequences of drunk\n",
    "driving, this infographic encourages individuals to consider their\n",
    "impact on others.\n",
    "■ Collective Behavior Change: It fosters a sense of collective\n",
    "responsibility, emphasizing that responsible choices benefit\n",
    "society as a whole.\n",
    "■ Weaknesses:\n",
    "■ Emotional Overload: Some viewers might find the tragedy\n",
    "overwhelming, affecting their willingness to engage with the\n",
    "message.\n",
    "■ Selective Empathy: Not everyone may connect emotionally with\n",
    "the depicted scenes.\n",
    "■ Overall Effectiveness (Social Responsibility): I rate it a 4.5 out of 5.\n",
    "○ Second Infographic (BUZZED vs. BARRD):\n",
    "■ Strengths:\n",
    "■ Simplicity for Wider Audience: The straightforward split-screen\n",
    "format appeals to a broader audience, emphasizing the collective\n",
    "responsibility to prevent accidents.\n",
    "■ Clear Message: It directly communicates the societal impact of\n",
    "drunk driving.\n",
    "■ Weaknesses:\n",
    "■ Less Emotional Impact: The lack of emotional imagery might\n",
    "reduce its effectiveness for some viewers.\n",
    "■ Risk of Oversimplification: It may not fully convey the gravity of\n",
    "the issue.\n",
    "■ Overall Effectiveness (Social Responsibility): I rate it a 3.5 out of 5.\n",
    "2. Personal Responsibility:\n",
    "○ First Infographic (Celebration vs. Tragedy):\n",
    "■ Strengths:\n",
    "■ Personal Connection: The emotional contrast prompts viewers to\n",
    "reflect on their own choices.\n",
    "■ Behavioral Change: It encourages individuals to take personal\n",
    "responsibility for their actions.\n",
    "■ Weaknesses:\n",
    "■ Potential Desensitization: Some viewers might become\n",
    "desensitized due to the graphic nature of the tragedy.\n",
    "■ Individual Variation: Emotional impact varies from person to\n",
    "person.\n",
    "■ Overall Effectiveness (Personal Responsibility): I rate it a 4.5 out of 5.\n",
    "○ Second Infographic (BUZZED vs. BARRD):\n",
    "■ Strengths:\n",
    "■ Direct Accountability: The split-screen format emphasizes\n",
    "individual responsibility.\n",
    "■ Clarity: It leaves no room for misinterpretation.\n",
    "■ Weaknesses:\n",
    "■ Lack of Emotional Appeal: The grayscale scenes might not\n",
    "evoke strong emotions.\n",
    "■ Risk of Oversimplification: It may not fully address the\n",
    "complexities of personal decision-making.\n",
    "■ Overall Effectiveness (Personal Responsibility): I rate it a 3.5 out of 5"
   ]
  },
  {
   "cell_type": "markdown",
   "id": "ec4a3f35-1c25-4f12-88a0-8a86d0fbbd6b",
   "metadata": {},
   "source": [
    "### Conclusion\n",
    "\n",
    "Though brief, this project has provided us with valuable insight into the possibilities for\n",
    "integrating AI into the creative generation, specifically within the context of designing a public\n",
    "health marketing campaign against drunk driving. We hail from two states in the top ten ranking\n",
    "for worst drunk driving tendencies– South Carolina and Missouri at #8 and #9 respectively– so\n",
    "this theme is particularly salient to us, especially given our age. When considering what would\n",
    "be most effective for this hypothetical campaign, we chose social and individual framing\n",
    "because of the somewhat socially normalized nature of the behavior and the psychology of\n",
    "individual selfishness.\n",
    "Our exploration of the capabilities of ChatGPT and Microsoft Co-Pilot in this project\n",
    "yielded results we could not have begun to anticipate, and we were truly impressed by the\n",
    "creativity, comprehensive attention to detail, and adaptability demonstrated by these LLMs. To\n",
    "conclude, we want to share some final observations and opinions.\n",
    "As for the benefits of using AI in our campaign creation, we were shocked by the\n",
    "originality of the ideas ChatGPT offered for both the individual and social lenses. Without\n",
    "sacrificing creativity, the platform generated multiple proposals in mere seconds rather than the\n",
    "hours or days it might’ve taken a person to do so. Additionally, the ideas were well-fleshed out\n",
    "and offered different channels of distribution, types of graphics, website possibilities, and more.\n",
    "This is all to say that in terms of brainstorming, AI can be an incredible tool to both offer lots of\n",
    "ideas and hone in on certain concepts. Still, it is important to note that we did run into some\n",
    "trouble when we tried to have Co-Pilot evaluate both proposals as well as engage effectively\n",
    "with our feedback within its Dalle-3 integration.\n",
    "Our main issue with AI’s assistance in our campaign was how Co-Pilot seemed unable\n",
    "to take our critiques to tweak the images it produced. If we asked for it to add color, it might\n",
    "change the entire genre of the drawing, or if we wanted it to feature a specific element, it might\n",
    "ignore that request entirely. We discussed with Professor O’Donnell how Dalle-3 takes your\n",
    "prompts and rephrases them for its backend command, though, so we are interested in\n",
    "investigating the way that it does this more in detail. Still, it proved frustrating, and given the\n",
    "other challenges of inaccurate text, miscellaneous additions, and varying stylistic choices, we\n",
    "think that human artists still come out on top (or at least they do for now!). Lastly, we were really\n",
    "surprised when Co-Pilot preferred our social framing proposal, as we anticipated that human\n",
    "respondents would be more moved by the individual framing given psycho-social drives being\n",
    "more independent, especially for young Americans. We did not know if Co-Pilot was unaware of\n",
    "this norm, though, because it seemed to evaluate the campaigns on how emotionally stirring\n",
    "they might be. Either way, we did not agree with the opinion and would like to do more testing\n",
    "on other ways to prompt it to evaluate future projects, such as changing our scale, offering it\n",
    "background information, or otherwise.\n",
    "Regardless of the small issues, we found AI to be sincerely helpful in the creation of this\n",
    "public health campaign and we have been inspired to further investigate the intersection of\n",
    "LLMs, marketing, and public communication."
   ]
  },
  {
   "cell_type": "code",
   "execution_count": null,
   "id": "b353f184-6406-4476-bcd9-fd8f201d02c6",
   "metadata": {},
   "outputs": [],
   "source": []
  }
 ],
 "metadata": {
  "citation-manager": {
   "items": {}
  },
  "kernelspec": {
   "display_name": "Python 3.11 (COMM4190)",
   "language": "python",
   "name": "comm4190"
  },
  "language_info": {
   "codemirror_mode": {
    "name": "ipython",
    "version": 3
   },
   "file_extension": ".py",
   "mimetype": "text/x-python",
   "name": "python",
   "nbconvert_exporter": "python",
   "pygments_lexer": "ipython3",
   "version": "3.11.7"
  }
 },
 "nbformat": 4,
 "nbformat_minor": 5
}
