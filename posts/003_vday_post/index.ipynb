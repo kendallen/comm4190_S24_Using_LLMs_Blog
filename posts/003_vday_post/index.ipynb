{
 "cells": [
  {
   "attachments": {},
   "cell_type": "markdown",
   "id": "7368ddcf-c05b-4f1a-b989-6943cb29c757",
   "metadata": {},
   "source": [
    "---\n",
    "title: \"A Wholesome Valentine's Day\"\n",
    "description: \"Asking LLMs for Appropriate VDay Card Ideas\"\n",
    "author: \"Kendall Allen\"\n",
    "date: \"2/14/2024\"\n",
    "categories:\n",
    "  - LLMs\n",
    "  - Prompting\n",
    "  - Creative\n",
    "format:\n",
    "  html:\n",
    "    code-fold: true\n",
    "---"
   ]
  },
  {
   "cell_type": "code",
   "execution_count": null,
   "id": "c383e8ab-7b84-4034-b949-d4b301e072de",
   "metadata": {},
   "outputs": [],
   "source": []
  },
  {
   "cell_type": "markdown",
   "id": "6b29d59c-68ed-402f-aeb5-9bb8e99d261b",
   "metadata": {},
   "source": [
    "<img src=\"snoopy.jpg\" width=\"300px\" />"
   ]
  },
  {
   "cell_type": "markdown",
   "id": "461540f0-8122-4b83-9730-8a76ab595817",
   "metadata": {},
   "source": [
    "## Looking for Inspiration!\n",
    "\n",
    "In the spirit of the day characterized by cherubs, candy, and couples, I wanted to ask LLMs for cute ideas to use for children's cards this Valentine's Day. While I thought my question was rather straightforward, I was surprised (as I'm sure I often will be through this blog) to see drastically different responses. \n",
    "\n",
    "## Our Goal\n",
    "\n",
    "My intention with this exploration was to prompt the LLMs to create several family-friendly jokes to write in Valentine's day cards. While I always associate cards with some kind of one-liner-- especially on holidays such as VDay-- I came to find out that some chatbots might need slightly more specific instructions than others. \n",
    "\n",
    "The prompt I used for every case was: \n",
    "##### \"Please give me Valentine's Day card ideas appropriate for kids!\""
   ]
  },
  {
   "cell_type": "markdown",
   "id": "846383f5-884f-4835-b021-302ca84b11d2",
   "metadata": {},
   "source": [
    "### LLM 1: ChatGpt/ GPT-3.5"
   ]
  },
  {
   "cell_type": "markdown",
   "id": "2612c795-8dc5-4c73-8456-f97470eee6b5",
   "metadata": {},
   "source": [
    "Of course! Here are some cute and kid-friendly Valentine's Day card ideas:\n",
    "\n",
    "1. **Animal Pals**: Create cards featuring adorable animals like cats, dogs, or pandas holding hearts or flowers with messages like \"You're purr-fect!\" or \"I'm wild about you!\"\n",
    "\n",
    "2. **Emoji Love**: Design cards with popular emojis expressing love and friendship, such as heart eyes 😍, hugs 🤗, or smiling faces 😊, with captions like \"You make my heart smile!\"\n",
    "\n",
    "3. **Superhero Love**: Craft cards with superhero themes, using phrases like \"You're my superhero!\" or \"You have the power to make my heart soar!\"\n",
    "\n",
    "4. **Dino-Mite Valentine**: Draw dinosaurs holding hearts or wearing heart-shaped sunglasses with puns like \"You're dino-mite!\" or \"I'm roarsomely glad you're my friend!\"\n",
    "\n",
    "5. **Space Explorers**: Create cards with space themes featuring rockets, planets, and cute aliens, with messages like \"You're out of this world!\" or \"I'm over the moon for you!\"\n",
    "\n",
    "6. **Sweet Treats**: Design cards shaped like ice cream cones, cupcakes, or donuts with sprinkles, with sayings like \"You're sweeter than candy!\" or \"You're the sprinkles to my day!\"\n",
    "\n",
    "7. **Sports Fans**: Make cards featuring sports equipment like basketballs, soccer balls, or baseball gloves, with phrases such as \"You're a slam dunk friend!\" or \"You hit a home run in my heart!\"\n",
    "\n",
    "8. **Magical Unicorns**: Create cards with unicorns and rainbows, with messages like \"You're one of a kind!\" or \"You make life magical!\"\n",
    "\n",
    "9. **Under the Sea**: Design cards with sea creatures like fish, dolphins, or seahorses, with puns like \"You're fintastic!\" or \"You're o-fish-ally awesome!\"\n",
    "\n",
    "10. **DIY Scratch-off Cards**: Make homemade scratch-off cards using metallic paint and dish soap, revealing messages like \"You're a gem!\" or \"You're my shining star!\" when scratched off.\n",
    "\n",
    "Remember to keep the designs colorful, cheerful, and age-appropriate for the kids you're making them for. Have fun crafting these Valentine's Day cards!"
   ]
  },
  {
   "cell_type": "markdown",
   "id": "bfc928d3-e3ae-43a6-8a4c-e647815fffd7",
   "metadata": {},
   "source": [
    "::: {.callout-tip}\n",
    "### GPT-3.5 Observations"
   ]
  },
  {
   "cell_type": "markdown",
   "id": "5f5c75f8-6a88-4dc2-9e69-fa1ae435c99d",
   "metadata": {},
   "source": [
    "### LLM 2: Microsoft Co-Pilot"
   ]
  },
  {
   "cell_type": "markdown",
   "id": "be8a556c-dd0a-47bb-a77e-a3909d83c821",
   "metadata": {},
   "source": [
    "Certainly! Here are some delightful **Valentine's Day card ideas for kids** that are easy to make and perfect for sharing with family, friends, and classmates:\n",
    "\n",
    "1. **Non-Candy Valentines**:\n",
    "   - Create adorable bubble valentines by attaching a small bottle of bubbles to a printable card. You can find free printable cards online! 🎈\n",
    "   - Another fun non-candy idea is to make valentines using Play-Doh. Kids can get creative and shape their own mini hearts! 🎨\n",
    "   - Use a paper heart and attach pencils to it, saying, \"You're 'just write'!\" 📝\n",
    "\n",
    "2. **Mini Cereal Box Valentine Cards**:\n",
    "   - Write or type a cute quote (like the ones below) on a piece of paper.\n",
    "   - Secure it around a mini cereal box with tape or glue and tie a spoon onto the box.\n",
    "   - Some fun quotes:\n",
    "     - \"You have a heart of Gold – Golden Grahams\"\n",
    "     - \"I’m not playing Trix. I really like you. – Trix\"\n",
    "     - \"You are my Lucky Charm. – Lucky Charms\"\n",
    "     - \"I like you Oh so much! – Cheerios\"\n",
    "     - \"You make my heart Swirl – Cinnamon Toast Crunch\"\n",
    "     - \"I’m Cuckoo for you. – Cocoa Puffs\" 🥣\n",
    "\n",
    "3. **Superhero Tootsie Roll Pop Valentines**:\n",
    "   - Attach little superhero Tootsie Roll Pops to cards with the message, \"Have a 'Super Valentine's Day!'\" 🦸‍♂️\n",
    "\n",
    "4. **Heart-Shaped Handprint Cards**:\n",
    "   - Trace your child's hand onto colored paper and cut out the shape.\n",
    "   - Attach it to a folded card and write a sweet message inside. 🖐️❤️\n",
    "\n",
    "5. **Origami Heart Cards**:\n",
    "   - Fold origami hearts using colorful paper.\n",
    "   - Write a punny Valentine's message, like \"You're 'unbeatable'!\" for a heart-shaped card. 💌\n",
    "\n",
    "Remember, these cards are not only fun to make but also a wonderful way for kids to express their love and appreciation. Happy Valentine's Day! 💕🌟\n",
    "\n",
    "For more ideas, you can check out [this list](https://www.yourmodernfamily.com/valentines-day-cards/) or explore other creative options online! 😊\n",
    "\n",
    "Source: Conversation with Bing, 2/14/2024\n",
    "(1) . https://bing.com/search?q=Valentine%27s+day+card+ideas+for+kids.\n",
    "(2) 20 Valentine’s Day Card Ideas for Kids - Your Modern Family. https://www.yourmodernfamily.com/valentines-day-cards/.\n",
    "(3) 40+ Easy Valentines Cards for Kids - Red Ted Art - Kids Crafts. https://www.redtedart.com/14-valentines-cards-for-kids/.\n",
    "(4) 30 Free Printable Valentine Cards for Kids - Kidz Craft Corner. https://kidzcraftcorner.com/printable-valentine-cards-for-kids/."
   ]
  },
  {
   "cell_type": "markdown",
   "id": "14276731-6c73-4348-bd9e-a94c8c9c7f69",
   "metadata": {},
   "source": [
    "::: {.callout-tip}\n",
    "## Co-Pilot Observations"
   ]
  },
  {
   "cell_type": "markdown",
   "id": "c72a184a-630e-49bb-bf71-2407bb782b16",
   "metadata": {},
   "source": [
    "### LLM 3: TinyLlama (using Ollama)"
   ]
  },
  {
   "cell_type": "code",
   "execution_count": 1,
   "id": "9fffeea0-3915-4efe-979f-6b65bd69b272",
   "metadata": {},
   "outputs": [],
   "source": [
    "from langchain.llms import Ollama\n",
    "from langchain.callbacks.manager import CallbackManager\n",
    "from langchain.callbacks.streaming_stdout import StreamingStdOutCallbackHandler                                  \n",
    "llm = Ollama(model=\"tinyllama\", \n",
    "             callback_manager = CallbackManager([StreamingStdOutCallbackHandler()]))"
   ]
  },
  {
   "cell_type": "code",
   "execution_count": 2,
   "id": "86e9320f-8763-4e09-882e-e0f532469d05",
   "metadata": {},
   "outputs": [
    {
     "name": "stdout",
     "output_type": "stream",
     "text": [
      "1. Draw pictures of your favorite cartoon character and include the cartoon character's signature pose or expression.\n",
      "2. Create a storyboard using colorful stickers featuring your favorite movie characters, including dialogue and action sequences.\n",
      "3. Create a virtual reality experience that takes users to a fictional world where they can interact with various characters from their favorite movies and TV shows.\n",
      "4. Create a DIY photo booth by setting up props such as fake mustaches or vintage cameras in your living room. Ask kids to take pictures of themselves using the props.\n",
      "5. Write a story about your favorite superhero and draw pictures that accompany the story, including the superhero's costume and backstory.\n",
      "6. Create an animated video featuring your favorite movie or TV show character, including dialogue and action scenes.\n",
      "7. Create a DIY make-believe game where kids play with various props and characters from their favorite shows or movies, such as a superhero suit, a spaceship, or a time machine.\n",
      "8. Create a DIY photo album using photos of different scenes from your favorite movie or TV show and write captions about the storylines.\n",
      "9. Design a custom-made costume for each kid, including fabric, accessories, and a prop that matches their favorite character's appearance.\n",
      "10. Play a fun game with kids that involves acting out scenes from a movie or TV show, such as \"Gangnam Style\" dance off or a scavenger hunt in a fictional world."
     ]
    }
   ],
   "source": [
    "response = llm.invoke('Vday card ideas for kids')"
   ]
  },
  {
   "cell_type": "markdown",
   "id": "f80666fd-0e2e-483d-a47d-3ceae69d8053",
   "metadata": {},
   "source": [
    "::: {.callout-tip}\n",
    "## Ollama Observations"
   ]
  },
  {
   "cell_type": "markdown",
   "id": "b055f8a1-4a4b-4ec0-aa86-ce5b2bd2b430",
   "metadata": {},
   "source": [
    "## Conclusion"
   ]
  },
  {
   "cell_type": "code",
   "execution_count": null,
   "id": "9b20cc08-7bf0-4480-9b13-3b780ee3e724",
   "metadata": {},
   "outputs": [],
   "source": []
  }
 ],
 "metadata": {
  "citation-manager": {
   "items": {}
  },
  "kernelspec": {
   "display_name": "Python 3.11 (COMM4190)",
   "language": "python",
   "name": "comm4190"
  },
  "language_info": {
   "codemirror_mode": {
    "name": "ipython",
    "version": 3
   },
   "file_extension": ".py",
   "mimetype": "text/x-python",
   "name": "python",
   "nbconvert_exporter": "python",
   "pygments_lexer": "ipython3",
   "version": "3.11.7"
  }
 },
 "nbformat": 4,
 "nbformat_minor": 5
}
