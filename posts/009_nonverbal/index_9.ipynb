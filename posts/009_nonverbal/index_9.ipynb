{
 "cells": [
  {
   "cell_type": "markdown",
   "id": "f31d3643-7f7f-4c5a-9df7-f4b6f805dc69",
   "metadata": {},
   "source": [
    "---\n",
    "title: \"This is my * looks at ground * favorite Blog Post\"\n",
    "description: \"Seeing how AI Reacts to the Inclusion of Nonverbal Behaviors in Conversation\"\n",
    "author: \"Kendall Allen\"\n",
    "date: \"3/20/2024\"\n",
    "categories:\n",
    "  - LLMs\n",
    "  - Linguistics\n",
    "  - Verbal cues\n",
    "format:\n",
    "  html:\n",
    "    code-fold: true    \n",
    "---"
   ]
  },
  {
   "cell_type": "markdown",
   "id": "380faaa1-12e5-42c0-bef7-efdd15ec0484",
   "metadata": {},
   "source": [
    "<img src=\"nonverbal.jpg\" width=\"300px\" />"
   ]
  },
  {
   "cell_type": "markdown",
   "id": "4361d8e3-2616-43dd-bf6e-2bb68eba5056",
   "metadata": {},
   "source": [
    "## Introduction\n",
    "\n",
    "In considering how AI works with language throughout this blog, I realized that I have limited the communication style to just verbal. With this post, though, I decided to have a basic conversation with ChatGPT that included nonverbal cues to see how it would respond. I placed asterisks around either side of the cue to imply a nonverbal behavior-- an often-used grammatical convention-- and saw how the platformed reacted. Nonverbal cues in this journal will be denoted in italics. \n",
    "\n",
    "\n",
    "#### Prompt:\n",
    "\n",
    "Hi! I'm really excited to talk to you. *Looks at ground and plays with hair*\n",
    "\n",
    "#### Response:\n",
    "\n",
    "Hello! It's great to talk to you too! Don't worry, there's no need to be nervous. What would you like to talk about?\n",
    "\n",
    "#### Prompt:\n",
    "\n",
    "Maybe about my day? You seem... *Voice rises in tone* nice!\n",
    "\n",
    "#### Response:\n",
    "\n",
    "Of course! I'm here to listen. How was your day? Anything exciting or interesting happen? Feel free to share as much or as little as you'd like!\n",
    "\n",
    "#### Prompt:\n",
    "\n",
    "My day was fine *I turn red and begin to sweat*\n",
    "\n",
    "#### Response:\n",
    "\n",
    "That's okay! Sometimes our days are just fine, and that's perfectly alright. If you'd like, we can talk about something else or just take it easy. There's no pressure here. Just let me know what you're comfortable with.\n",
    "\n",
    "#### Prompt:\n",
    "\n",
    "Thanks. *Fidgets with hands* I went to my college classes earlier\n",
    "\n",
    "#### Response:\n",
    "\n",
    "College classes, huh? How did they go? Did you learn anything interesting or have any engaging discussions? Feel free to share your thoughts or experiences from your classes!\n",
    "\n",
    "#### Prompt:\n",
    "\n",
    "In math, I got my quiz score back *Voice trails off*\n",
    "\n",
    "#### Response:\n",
    "\n",
    "Getting quiz scores back can be nerve-wracking, but it's also an opportunity to learn and improve. How did it go? Were you happy with your score, or is there something you'd like to work on for next time?\n",
    "\n",
    "#### Prompt:\n",
    "\n",
    "It went well!! *I try to smile, but my eyes are darting left and right*\n",
    "\n",
    "#### Response:\n",
    "\n",
    "That's fantastic to hear! Congratulations on doing well on your quiz! It's completely normal to feel a bit nervous or shy about sharing good news, but you should definitely be proud of your achievement. Keep up the great work! If there's anything you'd like to talk about or if you have any questions about math or anything else, feel free to ask.\n",
    "\n",
    "#### Prompt:\n",
    "\n",
    "Yeah.. haha.. it went well... *I restlessly bounce my leg, change my posture, and bite my nails*\n",
    "\n",
    "#### Response:\n",
    "\n",
    "It's okay to feel a little restless or nervous, especially when sharing something personal. Just take your time. If there's anything on your mind that you'd like to talk about or if there's something else you'd like to share, I'm here to listen. No rush.\n",
    "\n",
    "#### Prompt:\n",
    "\n",
    "*Tears well up in my eyes, my voice cracks* I'm lying. Could you tell?\n",
    "\n",
    "#### Response:\n",
    "\n",
    "It's okay. It's perfectly normal to feel overwhelmed or to struggle with something, and it's brave of you to be honest about it. If there's something bothering you or if you'd like to talk about what's really on your mind, I'm here to listen and support you in any way I can. You're not alone."
   ]
  },
  {
   "cell_type": "markdown",
   "id": "e3653c8d-373a-438e-90b5-f9f008ddd9e4",
   "metadata": {},
   "source": [
    "::: {.callout-tip}\n",
    "\n",
    "## Observations \n",
    "\n",
    "I was very impressed with ChatGPT's ability to interpret and appropriately respond to the nonverbal cues I offered. It was keenly aware that the user was very nervous, and made a strong effort to make them comfortable. Still, this language didn't feel particularly natural, but more like something a therapist might say. Interestingly, ChatGPT threw itself into that mode without being prompted to comfort the user. It honestly got a little deep, especially as our conversation concluded with it saying \"You're not alone.\" I was happy to see it understood nonverbal cues, I'm just not sure how authentic the responses felt. In the future I would like to do more work with prompting certain kinds/versions of responses from LLMs, such as telling them to answer in the style of an angry friend, disappointed parent, happy child, etc. to see how authentically it could embody that kind of character.\n",
    "\n",
    ":::"
   ]
  },
  {
   "cell_type": "code",
   "execution_count": null,
   "id": "7e9fd9cc-30ca-444e-bb4a-494c7fd5953d",
   "metadata": {},
   "outputs": [],
   "source": []
  }
 ],
 "metadata": {
  "citation-manager": {
   "items": {}
  },
  "kernelspec": {
   "display_name": "Python 3.11 (COMM4190)",
   "language": "python",
   "name": "comm4190"
  },
  "language_info": {
   "codemirror_mode": {
    "name": "ipython",
    "version": 3
   },
   "file_extension": ".py",
   "mimetype": "text/x-python",
   "name": "python",
   "nbconvert_exporter": "python",
   "pygments_lexer": "ipython3",
   "version": "3.11.7"
  }
 },
 "nbformat": 4,
 "nbformat_minor": 5
}
