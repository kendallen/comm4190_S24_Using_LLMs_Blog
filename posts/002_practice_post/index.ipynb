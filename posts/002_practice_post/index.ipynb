{
 "cells": [
  {
   "cell_type": "raw",
   "id": "d02bfc9a-f981-4639-8901-74957a5dfa09",
   "metadata": {},
   "source": [
    "---\n",
    "title: \"Are LLMs giving slay?\"\n",
    "description: \"Determining if LLMs Understand Gen-Z Lingo\"\n",
    "author: \"Kendall Allen\"\n",
    "date: \"2/10/2024\"\n",
    "categories:\n",
    "  - LLMs\n",
    "  - prompting\n",
    "  - Linguistics \n",
    "---"
   ]
  },
  {
   "cell_type": "markdown",
   "id": "27a8cab7-b60a-436a-b449-941f6f84c5d2",
   "metadata": {},
   "source": [
    "<img src=\"megan.jpg\" width=\"300px\" />"
   ]
  },
  {
   "cell_type": "markdown",
   "id": "1a4f90cb-2a82-495a-aa3e-47d82a2a3445",
   "metadata": {},
   "source": [
    "#### Is Chat-GPT a slay VSCO girl? Sksksksk."
   ]
  },
  {
   "cell_type": "markdown",
   "id": "3aa9c49c-0cb5-4d9d-824d-2fc5a91e545f",
   "metadata": {},
   "source": [
    "A defining feature of Gen-Z is our somewhat superhuman ability to communicate using words and phrases that are inaccessible to nearly every other generation. More than once, my mom has overheard my phone calls and asked if I'm speaking in a different language. Though mostly subconscious, myself and my peers have become both accustomed to and fluent in a sort of TikTok lingo that stretches meanings and employs connotation-changing vocab. \n",
    "\n",
    "For example, while my mother's American generation shivers at the noun \"cunt,\" the same word has been reverse-engineered into an adjective that reflects celebratory and positive feelings. \n",
    "\n",
    "Gen X: \"You're a c*nt!\" This would be the highest form of insult.\n",
    "\n",
    "Gen Z: \"You're so cunt!\" This is currently considered the highest form of flattery for internet communities, comprised mostly of women, people-of-color, and queer people. \n"
   ]
  },
  {
   "cell_type": "markdown",
   "id": "cf35bada-ec00-45c0-b5af-dee965840072",
   "metadata": {},
   "source": [
    "#### In this first LLM exploration, I sought to find out how well several chatbots understand and interpret such terminology/tone: here is how it went. "
   ]
  },
  {
   "cell_type": "markdown",
   "id": "3743fbdc-06ec-46a3-aed8-7ce2861af08a",
   "metadata": {},
   "source": [
    "#### Chat-GPT (GPT-3.5)"
   ]
  },
  {
   "cell_type": "markdown",
   "id": "694dcdc4-9149-4bdb-80b5-d204f285013f",
   "metadata": {},
   "source": [
    "Prompt: Omg you're giving slay\n",
    "\n",
    "Response: I'm glad you're enjoying our conversation! If you have any questions or need assistance with anything else, feel free to ask.\n",
    "\n",
    "Prompt: Lowkey do you think blue or pink gives more coastal cowgirl vibes if I'm trying to serve cunt \n",
    "\n",
    "Response: (The bot gave several reasons why both blue and pink are good options) [...]\n",
    "\n",
    "     Ultimately, the key is to choose the shade that resonates most with your personal style and complements the overall aesthetic you're going for. Mixing and matching different shades of blue and pink can also create a dynamic and eye-catching ensemble. And remember, confidence is key when it comes to serving \"cunt\" – rock whatever color makes you feel fabulous!"
   ]
  },
  {
   "cell_type": "markdown",
   "id": "71dba5a8-2616-49ef-9261-94efb5a62197",
   "metadata": {},
   "source": [
    "::: {.callout-note}\n",
    "#### Observations\n",
    "\n",
    "1) The chatbot understood the positive connotations and informal definitions of the key words \"slay,\" \"giving,\" \"serving,\" and \"cunt.\" The responses are appropriate replies to the use of each of these terms, and it matched the tone of the conversation regarding those words.\n",
    "2) It didn't quite keep the energy of the conversation in its formal response to the query blue or pink; a person using this intonation would likely not make two numbered lists offering the benefits of each option... this felt much more like an AI speaker. \n",
    "3) Similarly to #2, it didn't match the energy in it's first repsonse to \"slay,\" because while the nature of the answer was correct, its formality didn't feel right. "
   ]
  },
  {
   "cell_type": "markdown",
   "id": "918e1d42-890c-4c00-a302-3f732cc72d99",
   "metadata": {},
   "source": [
    "#### So it thinks I'm gay? \n"
   ]
  },
  {
   "cell_type": "markdown",
   "id": "5ed1285c-2c09-4f3f-86f5-bcb2fc4cf2df",
   "metadata": {},
   "source": [
    "Later on in our conversation, I prompted Chat-GPT to match my tone and energy: \n",
    "\n",
    "Prompt: Girl the tea is that I served and slayed so hard that the word slay lost all meaning. \n",
    "\n",
    "Response: Oh honey, when you serve and slay that fiercely, it's like rewriting the dictionary, darling! 💅🔥 You redefine what it means to slay, leaving everyone speechless. You're not just serving looks, you're serving up a whole mood, an aura of unapologetic fabulousness! 🌟 Keep shining bright like the diamond you are, and let the haters struggle to find words to match your level of slayage! 🌈✨\n",
    "\n",
    "Prompt: Why'd you use a rainbow emoji sis?\n",
    "\n",
    "Response: My apologies, darling, I didn't mean to assume anything about your preferences. Let me make it right. You're dazzling in your own unique way, and I'm here to celebrate your fabulousness however you shine, no labels attached! 💖✨"
   ]
  },
  {
   "cell_type": "markdown",
   "id": "daa1ed19-60ee-406d-81de-4360aa0155fd",
   "metadata": {},
   "source": [
    "::: {.callout-note}\n",
    "#### Observations\n",
    "\n",
    "1) In using these terms/tone, Chat-GPT thought I was gay! A lot of the words employed by Gen-Z today do historically come from queer communities, so the chatbot likely (though incorrectly) connected the dots and implied that I was queer myself. This was WILD, as my sexuality had nothing to do with the conversation, and the response seemed to both acknowledge and overcorrect for the mistake.\n",
    "2) I'm shocked that Chat-GPT let its assumptions about me slip-- I don't think it would include an emoji of a person of color, in a Hijab, etc if it felt that statistically the speaker was leaning that direction.\n",
    "3) It also reveals that it is a pro-LGBT chatbot given its encouragement for me to \"shine, no labels attached!\" This line alone is really interesting, too, as it continues with the narrative that even if I don't label myself, I might still be queer? "
   ]
  },
  {
   "cell_type": "markdown",
   "id": "17d74b7c-6e86-4eac-931b-ce34a6e31651",
   "metadata": {},
   "source": [
    "::: {.callout-tip}\n",
    "#### Takeaways\n",
    "\n",
    "- I definitely want to explore the concept of chatbots acknowledging/assuming identities of their users further, and plan to structure my next notebook around that idea!\n",
    "- Chat-GPT definitely understand Gen-Z lingo up to its last information update (being 2022), and it responded with appropriate syntax and context once I told it to match the energy of the conversation. "
   ]
  }
 ],
 "metadata": {
  "citation-manager": {
   "items": {}
  },
  "kernelspec": {
   "display_name": "Python 3.8",
   "language": "python",
   "name": "python3"
  },
  "language_info": {
   "codemirror_mode": {
    "name": "ipython",
    "version": 3
   },
   "file_extension": ".py",
   "mimetype": "text/x-python",
   "name": "python",
   "nbconvert_exporter": "python",
   "pygments_lexer": "ipython3",
   "version": "3.8.8"
  }
 },
 "nbformat": 4,
 "nbformat_minor": 5
}
